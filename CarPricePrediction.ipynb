{
 "cells": [
  {
   "cell_type": "markdown",
   "id": "ad733d7e",
   "metadata": {},
   "source": [
    "# Import basic libraries"
   ]
  },
  {
   "cell_type": "code",
   "execution_count": 1,
   "id": "aa290d61",
   "metadata": {},
   "outputs": [],
   "source": [
    "import pandas as pd\n",
    "import numpy as np\n",
    "import matplotlib.pyplot as plt\n",
    "import seaborn as sns\n",
    "\n",
    "%matplotlib inline"
   ]
  },
  {
   "cell_type": "markdown",
   "id": "9647538c",
   "metadata": {},
   "source": [
    "# Read Data and Perform Data Profiling"
   ]
  },
  {
   "cell_type": "code",
   "execution_count": 2,
   "id": "2ef0e336",
   "metadata": {},
   "outputs": [
    {
     "name": "stderr",
     "output_type": "stream",
     "text": [
      "/Users/pkhatri/opt/anaconda3/envs/carpredict/lib/python3.7/site-packages/IPython/core/interactiveshell.py:3444: FutureWarning: The error_bad_lines argument has been deprecated and will be removed in a future version.\n",
      "\n",
      "\n",
      "  exec(code_obj, self.user_global_ns, self.user_ns)\n",
      "b'Skipping line 408163: expected 16 fields, saw 17\\nSkipping line 417837: expected 16 fields, saw 17\\nSkipping line 421291: expected 16 fields, saw 17\\nSkipping line 424163: expected 16 fields, saw 17\\n'\n",
      "b'Skipping line 427042: expected 16 fields, saw 17\\nSkipping line 427045: expected 16 fields, saw 17\\nSkipping line 434426: expected 16 fields, saw 17\\nSkipping line 444503: expected 16 fields, saw 17\\nSkipping line 453796: expected 16 fields, saw 17\\n'\n",
      "b'Skipping line 461599: expected 16 fields, saw 17\\nSkipping line 461614: expected 16 fields, saw 17\\n'\n",
      "b'Skipping line 492486: expected 16 fields, saw 17\\nSkipping line 497010: expected 16 fields, saw 17\\nSkipping line 497013: expected 16 fields, saw 17\\nSkipping line 499085: expected 16 fields, saw 17\\nSkipping line 501457: expected 16 fields, saw 17\\nSkipping line 505301: expected 16 fields, saw 17\\nSkipping line 505308: expected 16 fields, saw 17\\nSkipping line 520463: expected 16 fields, saw 17\\n'\n",
      "b'Skipping line 528998: expected 16 fields, saw 17\\nSkipping line 529011: expected 16 fields, saw 17\\nSkipping line 529015: expected 16 fields, saw 17\\nSkipping line 529624: expected 16 fields, saw 17\\nSkipping line 548786: expected 16 fields, saw 17\\nSkipping line 551224: expected 16 fields, saw 17\\nSkipping line 554712: expected 16 fields, saw 17\\n'\n"
     ]
    }
   ],
   "source": [
    "# Read data\n",
    "df = pd.read_csv('car_prices.csv', error_bad_lines=False)"
   ]
  },
  {
   "cell_type": "code",
   "execution_count": 3,
   "id": "56e76262",
   "metadata": {},
   "outputs": [],
   "source": [
    "# Set display columns number to 100\n",
    "pd.set_option('display.max_columns', 100)"
   ]
  },
  {
   "cell_type": "code",
   "execution_count": 4,
   "id": "1410af8e",
   "metadata": {},
   "outputs": [
    {
     "data": {
      "text/html": [
       "<div>\n",
       "<style scoped>\n",
       "    .dataframe tbody tr th:only-of-type {\n",
       "        vertical-align: middle;\n",
       "    }\n",
       "\n",
       "    .dataframe tbody tr th {\n",
       "        vertical-align: top;\n",
       "    }\n",
       "\n",
       "    .dataframe thead th {\n",
       "        text-align: right;\n",
       "    }\n",
       "</style>\n",
       "<table border=\"1\" class=\"dataframe\">\n",
       "  <thead>\n",
       "    <tr style=\"text-align: right;\">\n",
       "      <th></th>\n",
       "      <th>year</th>\n",
       "      <th>make</th>\n",
       "      <th>model</th>\n",
       "      <th>trim</th>\n",
       "      <th>body</th>\n",
       "      <th>transmission</th>\n",
       "      <th>vin</th>\n",
       "      <th>state</th>\n",
       "      <th>condition</th>\n",
       "      <th>odometer</th>\n",
       "      <th>color</th>\n",
       "      <th>interior</th>\n",
       "      <th>seller</th>\n",
       "      <th>mmr</th>\n",
       "      <th>sellingprice</th>\n",
       "      <th>saledate</th>\n",
       "    </tr>\n",
       "  </thead>\n",
       "  <tbody>\n",
       "    <tr>\n",
       "      <th>0</th>\n",
       "      <td>2015</td>\n",
       "      <td>Kia</td>\n",
       "      <td>Sorento</td>\n",
       "      <td>LX</td>\n",
       "      <td>SUV</td>\n",
       "      <td>automatic</td>\n",
       "      <td>5xyktca69fg566472</td>\n",
       "      <td>ca</td>\n",
       "      <td>5.0</td>\n",
       "      <td>16639.0</td>\n",
       "      <td>white</td>\n",
       "      <td>black</td>\n",
       "      <td>kia motors america, inc</td>\n",
       "      <td>20500</td>\n",
       "      <td>21500</td>\n",
       "      <td>Tue Dec 16 2014 12:30:00 GMT-0800 (PST)</td>\n",
       "    </tr>\n",
       "    <tr>\n",
       "      <th>1</th>\n",
       "      <td>2015</td>\n",
       "      <td>Kia</td>\n",
       "      <td>Sorento</td>\n",
       "      <td>LX</td>\n",
       "      <td>SUV</td>\n",
       "      <td>automatic</td>\n",
       "      <td>5xyktca69fg561319</td>\n",
       "      <td>ca</td>\n",
       "      <td>5.0</td>\n",
       "      <td>9393.0</td>\n",
       "      <td>white</td>\n",
       "      <td>beige</td>\n",
       "      <td>kia motors america, inc</td>\n",
       "      <td>20800</td>\n",
       "      <td>21500</td>\n",
       "      <td>Tue Dec 16 2014 12:30:00 GMT-0800 (PST)</td>\n",
       "    </tr>\n",
       "    <tr>\n",
       "      <th>2</th>\n",
       "      <td>2014</td>\n",
       "      <td>BMW</td>\n",
       "      <td>3 Series</td>\n",
       "      <td>328i SULEV</td>\n",
       "      <td>Sedan</td>\n",
       "      <td>automatic</td>\n",
       "      <td>wba3c1c51ek116351</td>\n",
       "      <td>ca</td>\n",
       "      <td>4.5</td>\n",
       "      <td>1331.0</td>\n",
       "      <td>gray</td>\n",
       "      <td>black</td>\n",
       "      <td>financial services remarketing (lease)</td>\n",
       "      <td>31900</td>\n",
       "      <td>30000</td>\n",
       "      <td>Thu Jan 15 2015 04:30:00 GMT-0800 (PST)</td>\n",
       "    </tr>\n",
       "    <tr>\n",
       "      <th>3</th>\n",
       "      <td>2015</td>\n",
       "      <td>Volvo</td>\n",
       "      <td>S60</td>\n",
       "      <td>T5</td>\n",
       "      <td>Sedan</td>\n",
       "      <td>automatic</td>\n",
       "      <td>yv1612tb4f1310987</td>\n",
       "      <td>ca</td>\n",
       "      <td>4.1</td>\n",
       "      <td>14282.0</td>\n",
       "      <td>white</td>\n",
       "      <td>black</td>\n",
       "      <td>volvo na rep/world omni</td>\n",
       "      <td>27500</td>\n",
       "      <td>27750</td>\n",
       "      <td>Thu Jan 29 2015 04:30:00 GMT-0800 (PST)</td>\n",
       "    </tr>\n",
       "    <tr>\n",
       "      <th>4</th>\n",
       "      <td>2014</td>\n",
       "      <td>BMW</td>\n",
       "      <td>6 Series Gran Coupe</td>\n",
       "      <td>650i</td>\n",
       "      <td>Sedan</td>\n",
       "      <td>automatic</td>\n",
       "      <td>wba6b2c57ed129731</td>\n",
       "      <td>ca</td>\n",
       "      <td>4.3</td>\n",
       "      <td>2641.0</td>\n",
       "      <td>gray</td>\n",
       "      <td>black</td>\n",
       "      <td>financial services remarketing (lease)</td>\n",
       "      <td>66000</td>\n",
       "      <td>67000</td>\n",
       "      <td>Thu Dec 18 2014 12:30:00 GMT-0800 (PST)</td>\n",
       "    </tr>\n",
       "  </tbody>\n",
       "</table>\n",
       "</div>"
      ],
      "text/plain": [
       "   year   make                model        trim   body transmission  \\\n",
       "0  2015    Kia              Sorento          LX    SUV    automatic   \n",
       "1  2015    Kia              Sorento          LX    SUV    automatic   \n",
       "2  2014    BMW             3 Series  328i SULEV  Sedan    automatic   \n",
       "3  2015  Volvo                  S60          T5  Sedan    automatic   \n",
       "4  2014    BMW  6 Series Gran Coupe        650i  Sedan    automatic   \n",
       "\n",
       "                 vin state  condition  odometer  color interior  \\\n",
       "0  5xyktca69fg566472    ca        5.0   16639.0  white    black   \n",
       "1  5xyktca69fg561319    ca        5.0    9393.0  white    beige   \n",
       "2  wba3c1c51ek116351    ca        4.5    1331.0   gray    black   \n",
       "3  yv1612tb4f1310987    ca        4.1   14282.0  white    black   \n",
       "4  wba6b2c57ed129731    ca        4.3    2641.0   gray    black   \n",
       "\n",
       "                                   seller    mmr  sellingprice  \\\n",
       "0                 kia motors america, inc  20500         21500   \n",
       "1                 kia motors america, inc  20800         21500   \n",
       "2  financial services remarketing (lease)  31900         30000   \n",
       "3                 volvo na rep/world omni  27500         27750   \n",
       "4  financial services remarketing (lease)  66000         67000   \n",
       "\n",
       "                                  saledate  \n",
       "0  Tue Dec 16 2014 12:30:00 GMT-0800 (PST)  \n",
       "1  Tue Dec 16 2014 12:30:00 GMT-0800 (PST)  \n",
       "2  Thu Jan 15 2015 04:30:00 GMT-0800 (PST)  \n",
       "3  Thu Jan 29 2015 04:30:00 GMT-0800 (PST)  \n",
       "4  Thu Dec 18 2014 12:30:00 GMT-0800 (PST)  "
      ]
     },
     "execution_count": 4,
     "metadata": {},
     "output_type": "execute_result"
    }
   ],
   "source": [
    "# Check First 5 lines of data\n",
    "df.head()"
   ]
  },
  {
   "cell_type": "code",
   "execution_count": 5,
   "id": "3a4edf7b",
   "metadata": {},
   "outputs": [
    {
     "name": "stdout",
     "output_type": "stream",
     "text": [
      "Rows: 558811\n",
      "Columns: 16\n"
     ]
    }
   ],
   "source": [
    "# Total number of rows and columns\n",
    "print('Rows:', df.shape[0])\n",
    "print('Columns:', df.shape[1])"
   ]
  },
  {
   "cell_type": "code",
   "execution_count": 6,
   "id": "4dfcce00",
   "metadata": {},
   "outputs": [
    {
     "name": "stdout",
     "output_type": "stream",
     "text": [
      "Columns are:\n",
      " ['year', 'make', 'model', 'trim', 'body', 'transmission', 'vin', 'state', 'condition', 'odometer', 'color', 'interior', 'seller', 'mmr', 'sellingprice', 'saledate']\n"
     ]
    }
   ],
   "source": [
    "# Get column names and save it as cols\n",
    "cols = list(df.columns)\n",
    "print('Columns are:\\n', cols)"
   ]
  },
  {
   "cell_type": "code",
   "execution_count": 7,
   "id": "d4ceff5d",
   "metadata": {},
   "outputs": [
    {
     "name": "stdout",
     "output_type": "stream",
     "text": [
      "<class 'pandas.core.frame.DataFrame'>\n",
      "RangeIndex: 558811 entries, 0 to 558810\n",
      "Data columns (total 16 columns):\n",
      " #   Column        Non-Null Count   Dtype  \n",
      "---  ------        --------------   -----  \n",
      " 0   year          558811 non-null  int64  \n",
      " 1   make          548510 non-null  object \n",
      " 2   model         548412 non-null  object \n",
      " 3   trim          548160 non-null  object \n",
      " 4   body          545616 non-null  object \n",
      " 5   transmission  493458 non-null  object \n",
      " 6   vin           558811 non-null  object \n",
      " 7   state         558811 non-null  object \n",
      " 8   condition     547017 non-null  float64\n",
      " 9   odometer      558717 non-null  float64\n",
      " 10  color         558062 non-null  object \n",
      " 11  interior      558062 non-null  object \n",
      " 12  seller        558811 non-null  object \n",
      " 13  mmr           558811 non-null  int64  \n",
      " 14  sellingprice  558811 non-null  int64  \n",
      " 15  saledate      558811 non-null  object \n",
      "dtypes: float64(2), int64(3), object(11)\n",
      "memory usage: 68.2+ MB\n"
     ]
    }
   ],
   "source": [
    "# Information about columns\n",
    "df.info()"
   ]
  },
  {
   "cell_type": "code",
   "execution_count": 8,
   "id": "cad39dc0",
   "metadata": {},
   "outputs": [
    {
     "data": {
      "text/html": [
       "<div>\n",
       "<style scoped>\n",
       "    .dataframe tbody tr th:only-of-type {\n",
       "        vertical-align: middle;\n",
       "    }\n",
       "\n",
       "    .dataframe tbody tr th {\n",
       "        vertical-align: top;\n",
       "    }\n",
       "\n",
       "    .dataframe thead th {\n",
       "        text-align: right;\n",
       "    }\n",
       "</style>\n",
       "<table border=\"1\" class=\"dataframe\">\n",
       "  <thead>\n",
       "    <tr style=\"text-align: right;\">\n",
       "      <th></th>\n",
       "      <th>year</th>\n",
       "      <th>condition</th>\n",
       "      <th>odometer</th>\n",
       "      <th>mmr</th>\n",
       "      <th>sellingprice</th>\n",
       "    </tr>\n",
       "  </thead>\n",
       "  <tbody>\n",
       "    <tr>\n",
       "      <th>count</th>\n",
       "      <td>558811.000000</td>\n",
       "      <td>547017.000000</td>\n",
       "      <td>558717.000000</td>\n",
       "      <td>558811.000000</td>\n",
       "      <td>558811.000000</td>\n",
       "    </tr>\n",
       "    <tr>\n",
       "      <th>mean</th>\n",
       "      <td>2010.038696</td>\n",
       "      <td>3.424512</td>\n",
       "      <td>68323.195797</td>\n",
       "      <td>13769.324646</td>\n",
       "      <td>13611.262461</td>\n",
       "    </tr>\n",
       "    <tr>\n",
       "      <th>std</th>\n",
       "      <td>3.966812</td>\n",
       "      <td>0.949439</td>\n",
       "      <td>53397.752933</td>\n",
       "      <td>9679.874607</td>\n",
       "      <td>9749.656919</td>\n",
       "    </tr>\n",
       "    <tr>\n",
       "      <th>min</th>\n",
       "      <td>1982.000000</td>\n",
       "      <td>1.000000</td>\n",
       "      <td>1.000000</td>\n",
       "      <td>25.000000</td>\n",
       "      <td>1.000000</td>\n",
       "    </tr>\n",
       "    <tr>\n",
       "      <th>25%</th>\n",
       "      <td>2007.000000</td>\n",
       "      <td>2.700000</td>\n",
       "      <td>28374.000000</td>\n",
       "      <td>7100.000000</td>\n",
       "      <td>6900.000000</td>\n",
       "    </tr>\n",
       "    <tr>\n",
       "      <th>50%</th>\n",
       "      <td>2012.000000</td>\n",
       "      <td>3.600000</td>\n",
       "      <td>52256.000000</td>\n",
       "      <td>12250.000000</td>\n",
       "      <td>12100.000000</td>\n",
       "    </tr>\n",
       "    <tr>\n",
       "      <th>75%</th>\n",
       "      <td>2013.000000</td>\n",
       "      <td>4.200000</td>\n",
       "      <td>99112.000000</td>\n",
       "      <td>18300.000000</td>\n",
       "      <td>18200.000000</td>\n",
       "    </tr>\n",
       "    <tr>\n",
       "      <th>max</th>\n",
       "      <td>2015.000000</td>\n",
       "      <td>5.000000</td>\n",
       "      <td>999999.000000</td>\n",
       "      <td>182000.000000</td>\n",
       "      <td>230000.000000</td>\n",
       "    </tr>\n",
       "  </tbody>\n",
       "</table>\n",
       "</div>"
      ],
      "text/plain": [
       "                year      condition       odometer            mmr  \\\n",
       "count  558811.000000  547017.000000  558717.000000  558811.000000   \n",
       "mean     2010.038696       3.424512   68323.195797   13769.324646   \n",
       "std         3.966812       0.949439   53397.752933    9679.874607   \n",
       "min      1982.000000       1.000000       1.000000      25.000000   \n",
       "25%      2007.000000       2.700000   28374.000000    7100.000000   \n",
       "50%      2012.000000       3.600000   52256.000000   12250.000000   \n",
       "75%      2013.000000       4.200000   99112.000000   18300.000000   \n",
       "max      2015.000000       5.000000  999999.000000  182000.000000   \n",
       "\n",
       "        sellingprice  \n",
       "count  558811.000000  \n",
       "mean    13611.262461  \n",
       "std      9749.656919  \n",
       "min         1.000000  \n",
       "25%      6900.000000  \n",
       "50%     12100.000000  \n",
       "75%     18200.000000  \n",
       "max    230000.000000  "
      ]
     },
     "execution_count": 8,
     "metadata": {},
     "output_type": "execute_result"
    }
   ],
   "source": [
    "# Summary of dataset for numerical variables\n",
    "df.describe()"
   ]
  },
  {
   "cell_type": "code",
   "execution_count": 9,
   "id": "e204a45d",
   "metadata": {
    "scrolled": true
   },
   "outputs": [
    {
     "data": {
      "text/plain": [
       "year                34\n",
       "make                96\n",
       "model              973\n",
       "trim              1975\n",
       "body                86\n",
       "transmission         2\n",
       "vin             550296\n",
       "state               38\n",
       "condition           41\n",
       "odometer        172277\n",
       "color               20\n",
       "interior            17\n",
       "seller           14264\n",
       "mmr               1101\n",
       "sellingprice      1887\n",
       "saledate          3745\n",
       "dtype: int64"
      ]
     },
     "execution_count": 9,
     "metadata": {},
     "output_type": "execute_result"
    }
   ],
   "source": [
    "# Total unique values\n",
    "df.nunique()"
   ]
  },
  {
   "cell_type": "markdown",
   "id": "a458cca5",
   "metadata": {},
   "source": [
    "# Data Cleaning"
   ]
  },
  {
   "cell_type": "markdown",
   "id": "85033fd0",
   "metadata": {},
   "source": [
    "## Checking for Null values"
   ]
  },
  {
   "cell_type": "code",
   "execution_count": 10,
   "id": "7cad91eb",
   "metadata": {
    "scrolled": true
   },
   "outputs": [
    {
     "data": {
      "text/plain": [
       "year                0\n",
       "make            10301\n",
       "model           10399\n",
       "trim            10651\n",
       "body            13195\n",
       "transmission    65353\n",
       "vin                 0\n",
       "state               0\n",
       "condition       11794\n",
       "odometer           94\n",
       "color             749\n",
       "interior          749\n",
       "seller              0\n",
       "mmr                 0\n",
       "sellingprice        0\n",
       "saledate            0\n",
       "dtype: int64"
      ]
     },
     "execution_count": 10,
     "metadata": {},
     "output_type": "execute_result"
    }
   ],
   "source": [
    "df.isna().sum()"
   ]
  },
  {
   "cell_type": "code",
   "execution_count": 11,
   "id": "98b02e05",
   "metadata": {
    "scrolled": false
   },
   "outputs": [],
   "source": [
    "# Now Removing all the rows where Year, Manufacturer or model are null\n",
    "for i in ['make', 'model']:\n",
    "    df.dropna(subset=[i], inplace=True)"
   ]
  },
  {
   "cell_type": "code",
   "execution_count": 12,
   "id": "16177d55",
   "metadata": {},
   "outputs": [],
   "source": [
    "# Replacing null values for trim and transmission with \"Unknown\"\n",
    "df.loc[:, ['trim', 'transmission']].fillna('Unknown', inplace=True)"
   ]
  },
  {
   "cell_type": "code",
   "execution_count": 13,
   "id": "60b41b61",
   "metadata": {},
   "outputs": [],
   "source": [
    "# Replace null values of categorical columns with most frequently occuring one and numerical columns with median values\n",
    "for col in df.columns:\n",
    "    if df[col].dtypes == 'O':\n",
    "        df[col].fillna(df[col].mode()[0], inplace=True)\n",
    "    else:\n",
    "        df[col].fillna(df[col].median(), inplace=True)"
   ]
  },
  {
   "cell_type": "code",
   "execution_count": 14,
   "id": "81cb83d7",
   "metadata": {},
   "outputs": [
    {
     "data": {
      "text/plain": [
       "year            0\n",
       "make            0\n",
       "model           0\n",
       "trim            0\n",
       "body            0\n",
       "transmission    0\n",
       "vin             0\n",
       "state           0\n",
       "condition       0\n",
       "odometer        0\n",
       "color           0\n",
       "interior        0\n",
       "seller          0\n",
       "mmr             0\n",
       "sellingprice    0\n",
       "saledate        0\n",
       "dtype: int64"
      ]
     },
     "execution_count": 14,
     "metadata": {},
     "output_type": "execute_result"
    }
   ],
   "source": [
    "# Checking for null again\n",
    "df.isna().sum()"
   ]
  },
  {
   "cell_type": "markdown",
   "id": "12b41323",
   "metadata": {},
   "source": [
    "## Checking for Outliers"
   ]
  },
  {
   "cell_type": "code",
   "execution_count": 15,
   "id": "b4a96d9f",
   "metadata": {},
   "outputs": [
    {
     "data": {
      "text/plain": [
       "year                AxesSubplot(0.125,0.71587;0.227941x0.16413)\n",
       "condition        AxesSubplot(0.398529,0.71587;0.227941x0.16413)\n",
       "odometer         AxesSubplot(0.672059,0.71587;0.227941x0.16413)\n",
       "mmr                AxesSubplot(0.125,0.518913;0.227941x0.16413)\n",
       "sellingprice    AxesSubplot(0.398529,0.518913;0.227941x0.16413)\n",
       "dtype: object"
      ]
     },
     "execution_count": 15,
     "metadata": {},
     "output_type": "execute_result"
    },
    {
     "data": {
      "image/png": "[encoded data removed]",
      "text/plain": [
       "<Figure size 1152x720 with 12 Axes>"
      ]
     },
     "metadata": {
      "needs_background": "light"
     },
     "output_type": "display_data"
    }
   ],
   "source": [
    "df.plot(kind='box', subplots=True, layout=(4, 3), figsize=(16, 10))"
   ]
  },
  {
   "cell_type": "markdown",
   "id": "486d6815",
   "metadata": {},
   "source": [
    "For Year: Most listed cars were after 2000. Some cars were manufactured before 2000 and those are completely valid. No need to make any adjustements.\n",
    "For Odometer, mmr and sellingprice, further analysis are required before making a decision."
   ]
  },
  {
   "cell_type": "code",
   "execution_count": 16,
   "id": "06de1651",
   "metadata": {},
   "outputs": [
    {
     "data": {
      "text/plain": [
       "year\n",
       "1992     7\n",
       "1993     8\n",
       "1994     8\n",
       "1995     8\n",
       "1996    16\n",
       "1997    30\n",
       "1998    28\n",
       "1999    38\n",
       "2000    32\n",
       "2001    51\n",
       "2002    62\n",
       "2003    57\n",
       "2004    49\n",
       "2005    55\n",
       "2006    50\n",
       "2007    44\n",
       "2008    44\n",
       "2009    37\n",
       "2010    32\n",
       "2011    10\n",
       "2012     7\n",
       "2013     7\n",
       "2014     4\n",
       "Name: odometer, dtype: int64"
      ]
     },
     "execution_count": 16,
     "metadata": {},
     "output_type": "execute_result"
    }
   ],
   "source": [
    "# Checking Outliers of Odometer\n",
    "df[df['odometer'] > 300000].groupby('year')['odometer'].count()"
   ]
  },
  {
   "cell_type": "markdown",
   "id": "6550dca1",
   "metadata": {},
   "source": [
    "For odometer it seems unlikely that those higher odometer are possible looking at the year made. \n",
    "The outliers will be replaced with median value."
   ]
  },
  {
   "cell_type": "code",
   "execution_count": 17,
   "id": "135f6a86",
   "metadata": {},
   "outputs": [],
   "source": [
    "df['odometer'].where(df['odometer']<300000, df['odometer'].median(), inplace=True)"
   ]
  },
  {
   "cell_type": "code",
   "execution_count": 18,
   "id": "99b3f0bc",
   "metadata": {},
   "outputs": [
    {
     "name": "stdout",
     "output_type": "stream",
     "text": [
      "High MMR by Make\n",
      "make           model                        \n",
      "Audi           R8                                8\n",
      "               RS 7                              7\n",
      "BMW            M6                                7\n",
      "               M6 Gran Coupe                     2\n",
      "               i8                                9\n",
      "Bentley        Continental Flying Spur           2\n",
      "               Continental Flying Spur Speed     2\n",
      "               Continental GT                   11\n",
      "               Continental GTC                  10\n",
      "               Continental GTC Speed             1\n",
      "               Continental Supersports           1\n",
      "               Flying Spur                       2\n",
      "Ferrari        458 Italia                        1\n",
      "               California                       13\n",
      "               F430                              3\n",
      "Lamborghini    Gallardo                          4\n",
      "Land Rover     Range Rover                      23\n",
      "Mercedes-Benz  G-Class                          24\n",
      "               S-Class                           8\n",
      "               SL-Class                          2\n",
      "               SLS AMG                           3\n",
      "               SLS AMG GT                        1\n",
      "Porsche        911                               4\n",
      "               Cayenne                           1\n",
      "               Panamera                          2\n",
      "Rolls-Royce    Ghost                            17\n",
      "Name: mmr, dtype: int64\n",
      "\n",
      "High Selling Price by Make\n",
      "make           model                        \n",
      "Aston Martin   Rapide                            1\n",
      "Audi           R8                                9\n",
      "               RS 7                              5\n",
      "BMW            M5                                1\n",
      "               M6                                5\n",
      "               M6 Gran Coupe                     2\n",
      "               i8                                9\n",
      "Bentley        Continental Flying Spur           2\n",
      "               Continental Flying Spur Speed     2\n",
      "               Continental GT                   10\n",
      "               Continental GTC                   9\n",
      "               Continental GTC Speed             1\n",
      "               Continental Supersports           1\n",
      "               Flying Spur                       2\n",
      "Ferrari        458 Italia                        1\n",
      "               California                       13\n",
      "               F430                              3\n",
      "Ford           Escape                            2\n",
      "Lamborghini    Gallardo                          4\n",
      "Land Rover     Range Rover                      21\n",
      "Mercedes-Benz  G-Class                          21\n",
      "               S-Class                          10\n",
      "               SL-Class                          2\n",
      "               SLS AMG                           3\n",
      "               SLS AMG GT                        1\n",
      "Porsche        911                               5\n",
      "               Cayenne                           2\n",
      "               Panamera                          2\n",
      "Rolls-Royce    Ghost                            17\n",
      "Name: sellingprice, dtype: int64\n"
     ]
    }
   ],
   "source": [
    "# Checking outliers for mmr and selling price\n",
    "print('High MMR by Make')\n",
    "print(df[df['mmr']>100000].groupby(['make', 'model'])['mmr'].count())\n",
    "print()\n",
    "print('High Selling Price by Make')\n",
    "print(df[df['sellingprice']>100000].groupby(['make', 'model'])['sellingprice'].count())"
   ]
  },
  {
   "cell_type": "markdown",
   "id": "5242613e",
   "metadata": {},
   "source": [
    "Based on make and model, most higher priced cars were luxury and high class cars. For 2 Ford Escape, the selling price was higher than 100,000."
   ]
  },
  {
   "cell_type": "code",
   "execution_count": 19,
   "id": "e4a12dd4",
   "metadata": {},
   "outputs": [
    {
     "data": {
      "text/html": [
       "<div>\n",
       "<style scoped>\n",
       "    .dataframe tbody tr th:only-of-type {\n",
       "        vertical-align: middle;\n",
       "    }\n",
       "\n",
       "    .dataframe tbody tr th {\n",
       "        vertical-align: top;\n",
       "    }\n",
       "\n",
       "    .dataframe thead th {\n",
       "        text-align: right;\n",
       "    }\n",
       "</style>\n",
       "<table border=\"1\" class=\"dataframe\">\n",
       "  <thead>\n",
       "    <tr style=\"text-align: right;\">\n",
       "      <th></th>\n",
       "      <th>year</th>\n",
       "      <th>make</th>\n",
       "      <th>model</th>\n",
       "      <th>trim</th>\n",
       "      <th>body</th>\n",
       "      <th>transmission</th>\n",
       "      <th>vin</th>\n",
       "      <th>state</th>\n",
       "      <th>condition</th>\n",
       "      <th>odometer</th>\n",
       "      <th>color</th>\n",
       "      <th>interior</th>\n",
       "      <th>seller</th>\n",
       "      <th>mmr</th>\n",
       "      <th>sellingprice</th>\n",
       "      <th>saledate</th>\n",
       "    </tr>\n",
       "  </thead>\n",
       "  <tbody>\n",
       "    <tr>\n",
       "      <th>160201</th>\n",
       "      <td>2010</td>\n",
       "      <td>Ford</td>\n",
       "      <td>Escape</td>\n",
       "      <td>XLT</td>\n",
       "      <td>SUV</td>\n",
       "      <td>automatic</td>\n",
       "      <td>1fmcu0d77aka54695</td>\n",
       "      <td>oh</td>\n",
       "      <td>3.7</td>\n",
       "      <td>82985.0</td>\n",
       "      <td>red</td>\n",
       "      <td>gray</td>\n",
       "      <td>pat obrien chevrolet south</td>\n",
       "      <td>8250</td>\n",
       "      <td>108200</td>\n",
       "      <td>Tue Jan 20 2015 01:30:00 GMT-0800 (PST)</td>\n",
       "    </tr>\n",
       "    <tr>\n",
       "      <th>344905</th>\n",
       "      <td>2014</td>\n",
       "      <td>Ford</td>\n",
       "      <td>Escape</td>\n",
       "      <td>Titanium</td>\n",
       "      <td>SUV</td>\n",
       "      <td>automatic</td>\n",
       "      <td>1fmcu9j98eua23833</td>\n",
       "      <td>mo</td>\n",
       "      <td>4.3</td>\n",
       "      <td>27802.0</td>\n",
       "      <td>green</td>\n",
       "      <td>tan</td>\n",
       "      <td>ford-lincoln dealer program</td>\n",
       "      <td>22800</td>\n",
       "      <td>230000</td>\n",
       "      <td>Wed Feb 25 2015 02:00:00 GMT-0800 (PST)</td>\n",
       "    </tr>\n",
       "  </tbody>\n",
       "</table>\n",
       "</div>"
      ],
      "text/plain": [
       "        year  make   model      trim body transmission                vin  \\\n",
       "160201  2010  Ford  Escape       XLT  SUV    automatic  1fmcu0d77aka54695   \n",
       "344905  2014  Ford  Escape  Titanium  SUV    automatic  1fmcu9j98eua23833   \n",
       "\n",
       "       state  condition  odometer  color interior  \\\n",
       "160201    oh        3.7   82985.0    red     gray   \n",
       "344905    mo        4.3   27802.0  green      tan   \n",
       "\n",
       "                             seller    mmr  sellingprice  \\\n",
       "160201   pat obrien chevrolet south   8250        108200   \n",
       "344905  ford-lincoln dealer program  22800        230000   \n",
       "\n",
       "                                       saledate  \n",
       "160201  Tue Jan 20 2015 01:30:00 GMT-0800 (PST)  \n",
       "344905  Wed Feb 25 2015 02:00:00 GMT-0800 (PST)  "
      ]
     },
     "execution_count": 19,
     "metadata": {},
     "output_type": "execute_result"
    }
   ],
   "source": [
    "# Checking 2 Ford Escape\n",
    "df[(df['sellingprice']>100000) & (df['make']=='Ford')]"
   ]
  },
  {
   "cell_type": "markdown",
   "id": "088a13a0",
   "metadata": {},
   "source": [
    "Clearly there was a huge difference between selling price and mmr. Next we will correct selling price where the difference between mmr and selling price are greater than 25%. "
   ]
  },
  {
   "cell_type": "code",
   "execution_count": 20,
   "id": "85eb3f74",
   "metadata": {},
   "outputs": [],
   "source": [
    "# Replacing probable incorrect selling price with mmr\n",
    "df['sellingprice'].where((abs(df['sellingprice'] - df['mmr'])/df['mmr']) < 0.25, df['mmr'], inplace=True)"
   ]
  },
  {
   "cell_type": "markdown",
   "id": "3ffa4bc6",
   "metadata": {},
   "source": [
    "### Categorical variables fix"
   ]
  },
  {
   "cell_type": "code",
   "execution_count": 21,
   "id": "0fdb69e2",
   "metadata": {},
   "outputs": [
    {
     "data": {
      "text/plain": [
       "array(['Kia', 'BMW', 'Volvo', 'Nissan', 'Chevrolet', 'Audi', 'Ford',\n",
       "       'Hyundai', 'Buick', 'Cadillac', 'Acura', 'Lexus', 'Infiniti',\n",
       "       'Jeep', 'Mercedes-Benz', 'Mitsubishi', 'Mazda', 'MINI',\n",
       "       'Land Rover', 'Lincoln', 'lincoln', 'Jaguar', 'Volkswagen',\n",
       "       'Toyota', 'Subaru', 'Scion', 'Porsche', 'bmw', 'Dodge', 'FIAT',\n",
       "       'Chrysler', 'ford', 'Ferrari', 'Honda', 'GMC', 'mitsubishi', 'Ram',\n",
       "       'smart', 'chevrolet', 'Bentley', 'chrysler', 'pontiac', 'Pontiac',\n",
       "       'Saturn', 'Maserati', 'Mercury', 'HUMMER', 'landrover', 'cadillac',\n",
       "       'land rover', 'mercedes', 'mazda', 'toyota', 'lexus', 'gmc truck',\n",
       "       'honda', 'nissan', 'porsche', 'Saab', 'Suzuki', 'dodge', 'subaru',\n",
       "       'Oldsmobile', 'oldsmobile', 'hyundai', 'jeep', 'Isuzu', 'dodge tk',\n",
       "       'Geo', 'acura', 'volkswagen', 'suzuki', 'kia', 'audi',\n",
       "       'Rolls-Royce', 'gmc', 'maserati', 'mazda tk', 'mercury', 'buick',\n",
       "       'hyundai tk', 'mercedes-b', 'vw', 'Daewoo', 'chev truck',\n",
       "       'ford tk', 'plymouth', 'Plymouth', 'ford truck', 'Tesla',\n",
       "       'airstream', 'dot', 'Aston Martin', 'Fisker', 'Lamborghini',\n",
       "       'Lotus'], dtype=object)"
      ]
     },
     "execution_count": 21,
     "metadata": {},
     "output_type": "execute_result"
    }
   ],
   "source": [
    "# Checking for Make name\n",
    "df['make'].unique()"
   ]
  },
  {
   "cell_type": "markdown",
   "id": "0ece6b55",
   "metadata": {},
   "source": [
    "For some vehicles although the make are same, some are written in lower case and some in upper case. Also, for some vehicle some suffix is added after their make. We will remove those discrepancies. "
   ]
  },
  {
   "cell_type": "code",
   "execution_count": 22,
   "id": "4fc3ca9e",
   "metadata": {},
   "outputs": [],
   "source": [
    "# Capitalize the make\n",
    "df['make'] = df['make'].str.upper()\n",
    "\n",
    "# Remove any Suffix\n",
    "df['make'] = df['make'].apply(lambda x: x.split()[0])"
   ]
  },
  {
   "cell_type": "code",
   "execution_count": 23,
   "id": "87c50ef6",
   "metadata": {},
   "outputs": [
    {
     "data": {
      "text/plain": [
       "array(['KIA', 'BMW', 'VOLVO', 'NISSAN', 'CHEVROLET', 'AUDI', 'FORD',\n",
       "       'HYUNDAI', 'BUICK', 'CADILLAC', 'ACURA', 'LEXUS', 'INFINITI',\n",
       "       'JEEP', 'MERCEDES-BENZ', 'MITSUBISHI', 'MAZDA', 'MINI', 'LAND',\n",
       "       'LINCOLN', 'JAGUAR', 'VOLKSWAGEN', 'TOYOTA', 'SUBARU', 'SCION',\n",
       "       'PORSCHE', 'DODGE', 'FIAT', 'CHRYSLER', 'FERRARI', 'HONDA', 'GMC',\n",
       "       'RAM', 'SMART', 'BENTLEY', 'PONTIAC', 'SATURN', 'MASERATI',\n",
       "       'MERCURY', 'HUMMER', 'LANDROVER', 'MERCEDES', 'SAAB', 'SUZUKI',\n",
       "       'OLDSMOBILE', 'ISUZU', 'GEO', 'ROLLS-ROYCE', 'MERCEDES-B', 'VW',\n",
       "       'DAEWOO', 'CHEV', 'PLYMOUTH', 'TESLA', 'AIRSTREAM', 'DOT', 'ASTON',\n",
       "       'FISKER', 'LAMBORGHINI', 'LOTUS'], dtype=object)"
      ]
     },
     "execution_count": 23,
     "metadata": {},
     "output_type": "execute_result"
    }
   ],
   "source": [
    "# Checking make again\n",
    "df['make'].unique()"
   ]
  },
  {
   "cell_type": "code",
   "execution_count": 24,
   "id": "d3153801",
   "metadata": {},
   "outputs": [
    {
     "data": {
      "text/plain": [
       "array(['KIA', 'BMW', 'VOLVO', 'NISSAN', 'CHEVROLET', 'AUDI', 'FORD',\n",
       "       'HYUNDAI', 'BUICK', 'CADILLAC', 'ACURA', 'LEXUS', 'INFINITI',\n",
       "       'JEEP', 'MERCEDES', 'MITSUBISHI', 'MAZDA', 'MINI', 'LAND',\n",
       "       'LINCOLN', 'JAGUAR', 'VOLKSWAGEN', 'TOYOTA', 'SUBARU', 'SCION',\n",
       "       'PORSCHE', 'DODGE', 'FIAT', 'CHRYSLER', 'FERRARI', 'HONDA', 'GMC',\n",
       "       'RAM', 'SMART', 'BENTLEY', 'PONTIAC', 'SATURN', 'MASERATI',\n",
       "       'MERCURY', 'HUMMER', 'LANDROVER', 'SAAB', 'SUZUKI', 'OLDSMOBILE',\n",
       "       'ISUZU', 'GEO', 'ROLLS-ROYCE', 'VOLSKWAGEN', 'DAEWOO', 'CHEV',\n",
       "       'PLYMOUTH', 'TESLA', 'AIRSTREAM', 'DOT', 'ASTON', 'FISKER',\n",
       "       'LAMBORGHINI', 'LOTUS'], dtype=object)"
      ]
     },
     "execution_count": 24,
     "metadata": {},
     "output_type": "execute_result"
    }
   ],
   "source": [
    "# Renaming MERCEDES-BENZ and MERCEDES-B to MERCEDES and VW to VOLKSWAGEN\n",
    "df['make'] = df['make'].replace({'MERCEDES-B': 'MERCEDES', \n",
    "                                'MERCEDES-BENZ': 'MERCEDES', \n",
    "                                'VW': 'VOLSKWAGEN'})\n",
    "# Checking make again\n",
    "df['make'].unique()"
   ]
  },
  {
   "cell_type": "code",
   "execution_count": 25,
   "id": "1e796c55",
   "metadata": {},
   "outputs": [],
   "source": [
    "# Similarly changing model, trim and body to uppercase as well\n",
    "for col in ['model', 'trim', 'body', 'state']:\n",
    "    df[col] = df[col].str.upper()"
   ]
  },
  {
   "cell_type": "code",
   "execution_count": 26,
   "id": "cc327d88",
   "metadata": {},
   "outputs": [
    {
     "name": "stdout",
     "output_type": "stream",
     "text": [
      "Total Models: 851\n",
      "Model names:  ['SORENTO' '3 SERIES' 'S60' '6 SERIES GRAN COUPE' 'ALTIMA' 'M5' 'CRUZE'\n",
      " 'A4' 'CAMARO' 'A6' 'OPTIMA' 'FUSION' 'SONATA' 'Q5' '6 SERIES' 'IMPALA'\n",
      " '5 SERIES' 'A3' 'XC70' 'X5' 'SQ5' 'S5' 'VERANO' 'SUBURBAN' 'ELR' 'V60'\n",
      " 'X6' 'ILX' 'K900' 'MALIBU' 'RX 350' 'VERSA' 'ELANTRA' 'VERSA NOTE' 'A8'\n",
      " 'X1' 'ENCLAVE' 'TTS' '4 SERIES' 'SILVERADO 2500HD' 'MDX' 'SILVERADO 1500'\n",
      " 'SRX' 'G COUPE' 'G SEDAN' 'FX' 'SANTA FE' 'GENESIS' 'EQUUS'\n",
      " 'SONATA HYBRID' 'ACCENT' 'VELOSTER' 'ELANTRA COUPE' 'AZERA' 'TUCSON'\n",
      " 'GENESIS COUPE' 'WRANGLER' 'S-CLASS' 'GS 350' 'OUTLANDER' 'C-CLASS'\n",
      " 'MAZDA2' 'RIO' 'M' '370Z' 'SOUL' 'OUTLANDER SPORT' 'SLK-CLASS' 'ES 350'\n",
      " 'E-CLASS' 'MAZDA3' 'COOPER CLUBMAN' 'COOPER' 'CX-9' 'FORTE' 'COMPASS'\n",
      " 'JX' 'RX 450H' 'LR4' 'MAZDA5' 'RANGE ROVER EVOQUE' 'LS 460' 'GLK-CLASS'\n",
      " 'SPORTAGE' 'GRAND CHEROKEE' 'MKX' 'MKT' 'XF' 'GL-CLASS' 'M-CLASS'\n",
      " 'COOPER COUNTRYMAN' 'LANCER' 'RANGE ROVER SPORT' 'PASSAT' 'COROLLA'\n",
      " 'XC60' 'SIENNA' 'JUKE' 'YARIS' 'SENTRA' 'ROGUE' 'NV' 'CC' 'LEAF' 'CAMRY'\n",
      " 'TACOMA' 'JETTA' 'IMPREZA WRX' 'FJ CRUISER' 'BEETLE' 'AVALON' 'FR-S'\n",
      " 'NV200' 'RAV4' 'QUEST' 'TUNDRA' 'TC' 'MAXIMA' 'CAYENNE' '911' 'XTERRA'\n",
      " 'PRIUS' 'S80' 'FRONTIER' 'BOXSTER' 'CAMRY HYBRID' 'XB' 'CUBE'\n",
      " 'JETTA SPORTWAGEN' '4RUNNER' 'SEQUOIA' 'LEGACY' 'ARMADA' 'VENZA' 'MURANO'\n",
      " 'PATHFINDER' 'PANAMERA' 'FORESTER' 'HIGHLANDER' 'IMPREZA' '750I' 'TSX'\n",
      " '7 SERIES' '1 SERIES' 'TL' '750LI' 'S4' 'A7' 'A5' 'RDX' 'M3'\n",
      " 'COOPER COUPE' 'ZDX' 'R8' 'X3' 'AVENGER' 'E-SERIES WAGON' 'ESCAPE' 'EDGE'\n",
      " 'FOCUS' 'FLEX' 'Z4' 'TRAVERSE' 'F-350 SUPER DUTY' 'FIESTA' '500' '200'\n",
      " 'JOURNEY' 'CHARGER' 'E350' 'EQUINOX' '300' 'F-150' 'EXPLORER'\n",
      " 'CAPTIVA SPORT' 'ESCALADE' 'GRAND CARAVAN' 'CTS COUPE' 'TOWN AND COUNTRY'\n",
      " 'E-SERIES VAN' 'VOLT' 'EXPRESS CARGO' 'E150' 'X5 M' 'EXPEDITION'\n",
      " 'COLORADO' 'EXPRESS' 'CALIFORNIA' 'ESCALADE ESV' 'SONIC' 'ACCORD' 'CR-V'\n",
      " 'MUSTANG' 'CIVIC' 'FIT' 'PILOT' 'ODYSSEY' 'CROSSTOUR' 'TRANSIT CONNECT'\n",
      " 'TERRAIN' 'TAURUS' 'G CONVERTIBLE' 'YUKON' 'VERACRUZ' 'XJ' 'LIBERTY'\n",
      " 'IS 250' 'XK' 'QX' 'CT 200H' 'MAZDA6' 'MKZ' 'NAVIGATOR' 'RANGE ROVER'\n",
      " 'SL-CLASS' 'SEDONA' 'IS 350' 'PATRIOT' 'GALANT' '1500' 'GT-R' '2500'\n",
      " 'FORTWO' 'GLI' '5 SERIES GRAN TURISMO' 'XC90' 'TIGUAN' 'GTI' 'Q7'\n",
      " 'HIGHLANDER HYBRID' 'PRIUS PLUG-IN' 'CR-Z' 'EX' 'SIERRA 1500' 'LACROSSE'\n",
      " 'HHR' 'ACCORD CROSSTOUR' 'CTS' 'NITRO' 'TAHOE' 'CHALLENGER' 'CTS-V'\n",
      " 'ESCAPE HYBRID' 'X6 M' 'RANGER' 'INSIGHT' 'FUSION HYBRID' 'CTS-V COUPE'\n",
      " 'F-250 SUPER DUTY' 'ACADIA' 'IMPALA LIMITED' 'DART' 'SPARK' 'M37'\n",
      " 'SPRINTER' 'TOWN CAR' 'CLS-CLASS' 'CX-7' 'QX56' 'AVEO' 'OUTBACK'\n",
      " 'CALIBER' 'ROUTAN' 'G1500' 'SEBRING' 'CORVETTE' 'CONTINENTAL GT SPEED'\n",
      " 'LAND CRUISER' 'TOWN' 'V50' 'COMMANDER' 'ALTIMA HYBRID' 'G37 CONVERTIBLE'\n",
      " 'G6' 'NEW BEETLE' 'GOLF' 'LR2' 'LANCER SPORTBACK' 'G5' 'YUKON XL'\n",
      " 'ESCALADE HYBRID' 'AVALANCHE' 'TITAN' 'SPECTRA' 'RONDO' 'BORREGO'\n",
      " 'G-CLASS' 'MKS' 'CLK-CLASS' 'TAHOE HYBRID' 'ECONOLINE CARGO'\n",
      " 'ECONOLINE WAGON' 'PT CRUISER' 'STS' 'RIDGELINE' 'F-450 SUPER DUTY'\n",
      " 'MAGNUM' 'DURANGO' 'S40' 'MALIBU CLASSIC' 'TT' 'TAURUS X'\n",
      " 'EXPLORER SPORT TRAC' 'RAM PICKUP 1500' 'COBALT' 'PACIFICA' 'S6' 'RABBIT'\n",
      " 'C70' 'SIERRA 2500HD' 'C30' 'VUE' 'GRANTURISMO' 'GRAND PRIX' '350Z'\n",
      " 'RAIDER' 'MAZDASPEED MAZDA3' 'SOLSTICE' 'MILAN' 'GX 470' 'AURA' 'RX 400H'\n",
      " 'MATRIX' 'H3' 'CL-CLASS' 'OUTLOOK' '7' 'G37' 'IS F' 'TOUAREG 2'\n",
      " 'LANCER EVOLUTION' 'G35' 'XD' 'XJ-SERIES' 'G8' 'H2' 'DTS' 'LR3'\n",
      " 'SILVERADO 1500 CLASSIC' 'M45' 'UPLANDER' 'GS 450H' 'RANGEROVER'\n",
      " 'RENDEZVOUS' 'MONTE CARLO' 'FX35' 'RANGE' 'ION' 'R-CLASS' 'ECLIPSE'\n",
      " 'C230WZ' 'B9 TRIBECA' 'RSX' 'MARINER' 'GX' 'FIVE HUNDRED' 'ENVOY XL'\n",
      " 'S-TYPE' 'ELEMENT' 'CONTINENTAL FLYING SPUR' 'S2000' 'FX45' 'SR' 'GS 430'\n",
      " 'CAYMAN S' 'MARK LT' 'ES 330' 'GS 300' 'CAMRY SOLARA' 'RX8' 'TOUAREG'\n",
      " 'RELAY' 'LX' 'ALLROAD QUATTRO' '9-3' '500L' 'C-MAX HYBRID' 'FREESTYLE'\n",
      " 'RAM PICKUP 3500' 'SPRINTER CARGO' 'DEVILLE' 'H2 SUT' 'TRAILBLAZER'\n",
      " 'CANYON' 'DAKOTA' 'CONTINENTAL GT' 'NEON' 'STRATUS' 'Q45' 'FREESTAR'\n",
      " 'MONTANA' 'GRAND MARQUIS' 'XLR' 'AVIATOR' 'G55' 'MPV' 'LS 430' 'VERONA'\n",
      " 'FORENZA' 'RX 330' '300M' 'SC 430' 'DISCOVERY' 'EXCURSION' 'ENVOY XUV'\n",
      " 'ENVOY' 'CONCORDE' 'MONTEREY' 'MOUNTAINEER' 'AMANTI' 'MALIBU MAXX'\n",
      " 'CELICA' 'GRAND AM' 'ENDEAVOR' 'MARAUDER' 'QX4' 'LS' 'BLAZER'\n",
      " 'RAM PICKUP 2500' 'LESABRE' 'V40' 'MAZDASPEED PROTEGE' 'MONTERO' 'ES 300'\n",
      " 'THUNDERBIRD' 'CENTURY' 'CAVALIER' 'VENTURE' 'S-10' 'S55' 'COUGAR' 'XL-7'\n",
      " 'WINDSTAR' 'SILVERADO 1500HD' 'EXPLORER SPORT' 'SAVANA CARGO' 'X-TYPE'\n",
      " 'SONOMA' 'IS 300' 'PROTEGE5' 'RL' 'ALERO' 'GRAND VITARA' 'RX 300'\n",
      " 'L-SERIES' 'V70' 'INTRIGUE' 'XC' 'DISCOVERY SERIES II' 'S-SERIES' 'SANTA'\n",
      " 'ECHO' 'MX-5 MIATA' 'CONTINENTAL' 'SEVILLE' 'PARK AVENUE' 'MILLENIA'\n",
      " 'I30' 'GR' 'CHEROKEE' 'Z3' 'RAM' 'PRIZM' 'ESCORT' 'S10' 'LHS' 'F250'\n",
      " 'REGAL' 'G20' 'BONNEVILLE' 'ELDORADO' 'VOYAGER' 'INTREPID' 'CONTOUR'\n",
      " 'S90' 'SUNFIRE' 'CARAVAN' '200SX' 'RODEO' 'F150' 'TERCEL' 'S70'\n",
      " 'MUSTANG SVT COBRA' '300E' 'PICKUP' 'CIERA' 'LEGEND' 'LS 400'\n",
      " 'CUTLASS CIERA' 'SANTA FE SPORT' 'CADENZA' 'Q50' 'ELANTRA GT' 'F-TYPE'\n",
      " 'SHELBY GT500' 'QX70' 'QX60' 'Q60 CONVERTIBLE' 'COOPER ROADSTER' 'CX-5'\n",
      " 'COOPER PACEMAN' 'ROGUE SELECT' 'CAYMAN' 'CLA-CLASS' 'ALLROAD' 'ATS'\n",
      " 'PRIUS V' 'CONTINENTAL GTC' 'XV CROSSTREK' '3500' 'C-MAX ENERGI'\n",
      " 'FOCUS ST' 'RS 7' 'GX 460' 'CTS WAGON' 'SLS AMG' 'ASPEN' 'ECLIPSE SPYDER'\n",
      " 'VIBE' 'EOS' 'ENTOURAGE' 'EXPEDITN' 'QUATTROPORTE' 'M35' '9-5' 'SSR'\n",
      " 'ASTRO CARGO' 'SAFARI CARGO' 'TRIBUTE' 'DIAMANTE' 'SABLE'\n",
      " 'SILVERADO 3500' 'PHAETON' 'R32' 'I35' 'G500' 'BRAVADA'\n",
      " 'TAHOE LIMITED/Z71' 'TRUCK' 'C/K 1500 SERIES' 'GRAND' 'SC 300'\n",
      " 'ROADMASTER' 'SC 400' '420SEL' 'LX 570' 'QX80' 'RS 5' 'JETTA GLI'\n",
      " 'ES 300H' 'CAPT' 'M4' 'SX4' 'IQ' 'KIZASHI' 'C/V CARGO VAN' 'PRIUS C'\n",
      " '750LXI' 'ALP' 'LUCERNE' 'ESCALADE EXT' 'SILVERADO 3500HD'\n",
      " 'CROWN VICTORIA' 'SIERRA 3500HD' 'M56' 'IS 250 C' '3' 'ACTIVEHYBRID X6'\n",
      " 'G3500' 'E250' 'POLICE' 'ELANTRA TOURING' 'G37 COUPE' 'HS 250H'\n",
      " 'MAZDASPEED3' 'MILAN HYBRID' 'GHOST' 'SILVERADO 1500 HYBRID' 'CROWN'\n",
      " 'YUKON HYBRID' '6' 'MARINER HYBRID' 'TORRENT' 'VUE HYBRID' 'G3' '9-7X'\n",
      " 'EXPEDITION EL' 'TIBURON' 'NAVIGATOR L' 'ASTRA' 'TRIBECA' 'XL7' 'SKY'\n",
      " 'RENO' 'M6' 'S8' 'TERRAZA' 'SILVERADO 2500HD CLASSIC' 'RAM3500'\n",
      " 'SIERRA 1500 CLASSIC' 'SIERRA 2500HD CLASSIC' 'FUSION ENERGI' 'XK-SERIES'\n",
      " 'B-SERIES TRUCK' 'B200' 'MAZDASPEED MAZDA6' 'MONTEGO' 'RAINIER'\n",
      " 'TRAILBLAZER EXT' 'OPTRA' 'CROSSFIRE' 'SAVANA' 'SIERRA 1500HD' 'RIDGELIN'\n",
      " 'ZEPHYR' 'RRS' 'CARRERA' 'MONTANA SV6' 'WAVE' 'CLASSIC' 'PT' 'ASCENDER'\n",
      " 'XG350' 'Q60 COUPE' 'Q70' 'QX50' 'PURSUIT' 'X-TRAIL' 'GTO' 'XA' 'L300'\n",
      " 'BAJA' '9-2X' 'AERIO' 'EL' 'SILVERADO 2500' 'ASTRO' 'TRACKER'\n",
      " 'F-150 HERITAGE' 'EXPEDIT' 'FREELANDER' 'C240W' 'MR2 SPYDER' 'RS 6'\n",
      " '320I' 'AXIOM' 'CL55' 'MONTERO SPORT' 'SL55' 'PROTEGE' 'SILHOUETTE'\n",
      " 'B1500' '626' 'BLACKWOOD' 'RODEO SPORT' 'LX 470' 'VILLAGER' 'FIREBIRD'\n",
      " 'AZTEK' 'AURORA' 'CL' 'EUROVAN' 'CATERA' 'LEGANZA' 'XG300' 'PRELUDE'\n",
      " 'TROOPER' 'PROWLER' 'CABRIO' 'INTEGRA' 'EXCURS' 'CIRRUS' 'TWN&COUNTRY'\n",
      " 'JIMMY' 'SAFARI' 'SIERRA 2500' 'SEPHIA' 'PASSPORT' 'MIRAGE' 'BREEZE'\n",
      " 'LUMINA' 'AMIGO' 'ESTEEM' 'E300DT' 'CABRIOLET' 'CUTLASS' 'GS 400' 'E-150'\n",
      " 'REGENCY' 'B-SERIES PICKUP' 'CORSICA' 'BRONCO' 'LE BARON' 'CAPRICE'\n",
      " '500-CLASS' '300-CLASS' 'PREVIA' 'MURANO CROSSCABRIOLET' 'NV CARGO'\n",
      " 'JETTA HYBRID' 'S7' 'ENCORE' 'XTS' 'BLACK DIAMOND AVALANCHE' 'RLX'\n",
      " '2 SERIES' 'M6 GRAN COUPE' 'BRZ' 'C/V TRADESMAN' 'MODEL S'\n",
      " 'BEETLE CONVERTIBLE' 'GOLF R' 'TSX SPORT WAGON' 'INTERSTATE'\n",
      " 'CORVETTE STINGRAY' 'SS' 'MAZDASPEED 3' 'I-MIEV' 'F430' 'EX35' 'SWIFT'\n",
      " 'GRANSPORT' 'F350' 'YUKON DENALI' 'GHIBLI' '960' 'CUTLASS SUPREME'\n",
      " 'IS 350 C' '323I' 'MAZDASPEED MX-5 MIATA' 'RAM CARGO' 'EIGHTY-EIGHT'\n",
      " '850' 'J30' 'PROMASTER CARGO VAN' 'RR' '1' 'MALIBU HYBRID' '350'\n",
      " 'TWN/CNTRY' 'SPIRIT' 'ACCORD HYBRID' '3 SERIES GRAN TURISMO' 'E' 'C230'\n",
      " 'VIPER' 'RIVIERA' 'AVALON HYBRID' 'RX-8' 'V8 VANTAGE' 'EQUATOR'\n",
      " 'C/K 3500 SERIES' 'MARK VIII' 'GRANTURISMO CONVERTIBLE' 'ALLURE' 'C240S'\n",
      " 'VITARA' 'SIERA' 'PATHFIND' 'EIGHTY-EIGHT ROYALE' 'ACTIVEHYBRID 7'\n",
      " 'GS 460' 'TRIBUTE HYBRID' 'AURA HYBRID' 'G2500' '300ZX' 'GOLF GTI'\n",
      " 'I-SERIES' 'MKZ HYBRID' 'MACAN' 'FX50' 'COMM' 'STS-V' 'WINDSTAR CARGO'\n",
      " 'CTS-V WAGON' 'KARMA' '328I' 'Z4 M' '42C' 'SUBRBN' 'B2300' 'MOUNTNR'\n",
      " 'COUPE' 'UPLANDR' 'RAM VAN' 'TEMPO' 'TRACER' 'CV TRADESMAN' 'DB9'\n",
      " 'C/K 2500 SERIES' 'I8' 'RAPIDE' 'NUBIRA' 'NV PASSENGER' 'SPYDER'\n",
      " 'LS 600H L' '400-CLASS' 'H3T' 'LX 450' 'WRX' 'SILVERADO 3500 CLASSIC'\n",
      " '500E' 'CONTINENTAL SUPERSPORTS' 'SIERRA 3500' 'MYSTIQUE'\n",
      " 'F-150 SVT LIGHTNING' '190-CLASS' 'MKC' 'ASPIRE' '940' 'GALLARDO'\n",
      " 'CONTINENTAL FLYING SPUR SPEED' '3000GT' 'TT RS' 'B-SERIES'\n",
      " 'ACTIVEHYBRID 5' 'SIERRA 1500 HYBRID' 'ML55 AMG' 'S-10 BLAZER' 'RS 4'\n",
      " 'T100' 'CONTINENTAL GTC SPEED' 'TRANSIT VAN' 'F-250' 'SIDEKICK' 'E-250'\n",
      " '8 SERIES' '420-CLASS' 'E-350' 'ACHIEVA' 'B-CLASS ELECTRIC DRIVE'\n",
      " 'FLEETWOOD' 'PASEO' 'CIVIC DEL SOL' 'EXIGE' 'X4' 'SPARK EV'\n",
      " 'TRANSIT WAGON' 'H1' 'SLS AMG GT' 'FLYING SPUR' 'METRO'\n",
      " 'GRAND CHEROKEE SRT' 'RC F' 'Q3' '4 SERIES GRAN COUPE' 'RC 350' '360'\n",
      " 'GLA-CLASS' 'TLX' '458 ITALIA']\n",
      "\n",
      "Total Trims: 1900\n",
      "Trim names:  ['LX' '328I SULEV' 'T5' ... '4.2 QUATTRO SPYDER' 'EWB' 'POWER WAGON']\n",
      "\n",
      "Total Body: 45\n",
      "Body names:  ['SUV' 'SEDAN' 'CONVERTIBLE' 'COUPE' 'WAGON' 'HATCHBACK' 'CREW CAB'\n",
      " 'G COUPE' 'G SEDAN' 'ELANTRA COUPE' 'GENESIS COUPE' 'MINIVAN' 'VAN'\n",
      " 'DOUBLE CAB' 'CREWMAX CAB' 'ACCESS CAB' 'KING CAB' 'SUPERCREW'\n",
      " 'CTS COUPE' 'EXTENDED CAB' 'E-SERIES VAN' 'SUPERCAB' 'REGULAR CAB'\n",
      " 'G CONVERTIBLE' 'KOUP' 'QUAD CAB' 'CTS-V COUPE' 'G37 CONVERTIBLE'\n",
      " 'CLUB CAB' 'XTRACAB' 'Q60 CONVERTIBLE' 'CTS WAGON' 'G37 COUPE' 'MEGA CAB'\n",
      " 'CAB PLUS 4' 'Q60 COUPE' 'CAB PLUS' 'BEETLE CONVERTIBLE'\n",
      " 'TSX SPORT WAGON' 'PROMASTER CARGO VAN' 'GRANTURISMO CONVERTIBLE'\n",
      " 'CTS-V WAGON' 'RAM VAN' 'TRANSIT VAN' 'REGULAR-CAB']\n"
     ]
    }
   ],
   "source": [
    "# Checking for models, trim and body\n",
    "print('Total Models:', df['model'].nunique())\n",
    "print('Model names: ', df['model'].unique())\n",
    "print()\n",
    "\n",
    "print('Total Trims:', df['trim'].nunique())\n",
    "print('Trim names: ', df['trim'].unique())\n",
    "print()\n",
    "\n",
    "print('Total Body:', df['body'].nunique())\n",
    "print('Body names: ', df['body'].unique())"
   ]
  },
  {
   "cell_type": "markdown",
   "id": "3df65f77",
   "metadata": {},
   "source": [
    "For model no further cleaning will be done for model and trim as a make can produce numerous models and models can come in different trim. However, for Body we can narrow the classification. "
   ]
  },
  {
   "cell_type": "code",
   "execution_count": 27,
   "id": "8263a466",
   "metadata": {},
   "outputs": [],
   "source": [
    "df['body'] = df['body'].apply(lambda x: 'SUV' if 'SUV' in x else \n",
    "                ('SEDAN' if 'SEDAN' in x else \n",
    "                ('COUPE' if 'COUPE' in x else \n",
    "                ('HATCHBACK' if 'HATCHBACK' in x else \n",
    "                ('CONVERTIBLE' if 'CONVERTIBLE' in x else \n",
    "                ('VAN' if 'VAN' in x else (\n",
    "                'CAB' if 'CAB' in x else \n",
    "                'OTHER')))))))"
   ]
  },
  {
   "cell_type": "code",
   "execution_count": 28,
   "id": "f1669442",
   "metadata": {},
   "outputs": [
    {
     "data": {
      "text/plain": [
       "array(['SUV', 'SEDAN', 'CONVERTIBLE', 'COUPE', 'OTHER', 'HATCHBACK',\n",
       "       'CAB', 'VAN'], dtype=object)"
      ]
     },
     "execution_count": 28,
     "metadata": {},
     "output_type": "execute_result"
    }
   ],
   "source": [
    "# Checking body again\n",
    "df['body'].unique()"
   ]
  },
  {
   "cell_type": "code",
   "execution_count": 29,
   "id": "ae0bec0b",
   "metadata": {},
   "outputs": [],
   "source": [
    "# Create a list containing make names\n",
    "make_list = list(df['make'].unique())\n",
    "make_list.sort()\n",
    "\n",
    "# Create an empty dictionary\n",
    "model_dict = {}\n",
    "# Fill dictionary with key as make and list of models as values\n",
    "for m in make_list:\n",
    "    model_dict[m] = list(set(df[df['make']==m]['model']))\n",
    "    model_dict[m].sort()\n",
    "    \n",
    "# Create an empty dictionary\n",
    "trim_dict = {}\n",
    "# Fill dictionary with key as model and list of trims as values\n",
    "for t in list(df['model'].unique()):\n",
    "    trim_dict[t] = list(set(df[df['model']==t]['trim']))\n",
    "    trim_dict[t].sort()"
   ]
  },
  {
   "cell_type": "code",
   "execution_count": 30,
   "id": "86d81eee",
   "metadata": {},
   "outputs": [],
   "source": [
    "# Saving above created make_list along with model_dict and trim_dict in a list mmt. \n",
    "#Will utilized it later while create web application\n",
    "mmt = [make_list, model_dict, trim_dict]"
   ]
  },
  {
   "cell_type": "markdown",
   "id": "94e83400",
   "metadata": {},
   "source": [
    "# Label Encoder and One Hot Encoder"
   ]
  },
  {
   "cell_type": "code",
   "execution_count": 31,
   "id": "de9fafd9",
   "metadata": {},
   "outputs": [],
   "source": [
    "# Apply label encoder to column make, model, and trim\n",
    "from sklearn.preprocessing import LabelEncoder\n",
    "encoder_dict = {}\n",
    "for i in ['make', 'model', 'trim', 'state']:\n",
    "    encoder = LabelEncoder()\n",
    "    df[i] = encoder.fit_transform(df[i])\n",
    "    encoder_dict[i] = encoder"
   ]
  },
  {
   "cell_type": "code",
   "execution_count": 32,
   "id": "77b1caf0",
   "metadata": {},
   "outputs": [],
   "source": [
    "# One Hot Encoding\n",
    "df = pd.concat([df, pd.get_dummies(df[['body', 'transmission']], drop_first=True)], axis=1)"
   ]
  },
  {
   "cell_type": "code",
   "execution_count": 33,
   "id": "ba5c773e",
   "metadata": {},
   "outputs": [
    {
     "data": {
      "text/html": [
       "<div>\n",
       "<style scoped>\n",
       "    .dataframe tbody tr th:only-of-type {\n",
       "        vertical-align: middle;\n",
       "    }\n",
       "\n",
       "    .dataframe tbody tr th {\n",
       "        vertical-align: top;\n",
       "    }\n",
       "\n",
       "    .dataframe thead th {\n",
       "        text-align: right;\n",
       "    }\n",
       "</style>\n",
       "<table border=\"1\" class=\"dataframe\">\n",
       "  <thead>\n",
       "    <tr style=\"text-align: right;\">\n",
       "      <th></th>\n",
       "      <th>year</th>\n",
       "      <th>make</th>\n",
       "      <th>model</th>\n",
       "      <th>trim</th>\n",
       "      <th>body</th>\n",
       "      <th>transmission</th>\n",
       "      <th>vin</th>\n",
       "      <th>state</th>\n",
       "      <th>condition</th>\n",
       "      <th>odometer</th>\n",
       "      <th>color</th>\n",
       "      <th>interior</th>\n",
       "      <th>seller</th>\n",
       "      <th>mmr</th>\n",
       "      <th>sellingprice</th>\n",
       "      <th>saledate</th>\n",
       "      <th>body_CONVERTIBLE</th>\n",
       "      <th>body_COUPE</th>\n",
       "      <th>body_HATCHBACK</th>\n",
       "      <th>body_OTHER</th>\n",
       "      <th>body_SEDAN</th>\n",
       "      <th>body_SUV</th>\n",
       "      <th>body_VAN</th>\n",
       "      <th>transmission_manual</th>\n",
       "    </tr>\n",
       "  </thead>\n",
       "  <tbody>\n",
       "    <tr>\n",
       "      <th>0</th>\n",
       "      <td>2015</td>\n",
       "      <td>27</td>\n",
       "      <td>715</td>\n",
       "      <td>1194</td>\n",
       "      <td>SUV</td>\n",
       "      <td>automatic</td>\n",
       "      <td>5xyktca69fg566472</td>\n",
       "      <td>3</td>\n",
       "      <td>5.0</td>\n",
       "      <td>16639.0</td>\n",
       "      <td>white</td>\n",
       "      <td>black</td>\n",
       "      <td>kia motors america, inc</td>\n",
       "      <td>20500</td>\n",
       "      <td>21500</td>\n",
       "      <td>Tue Dec 16 2014 12:30:00 GMT-0800 (PST)</td>\n",
       "      <td>0</td>\n",
       "      <td>0</td>\n",
       "      <td>0</td>\n",
       "      <td>0</td>\n",
       "      <td>0</td>\n",
       "      <td>1</td>\n",
       "      <td>0</td>\n",
       "      <td>0</td>\n",
       "    </tr>\n",
       "    <tr>\n",
       "      <th>1</th>\n",
       "      <td>2015</td>\n",
       "      <td>27</td>\n",
       "      <td>715</td>\n",
       "      <td>1194</td>\n",
       "      <td>SUV</td>\n",
       "      <td>automatic</td>\n",
       "      <td>5xyktca69fg561319</td>\n",
       "      <td>3</td>\n",
       "      <td>5.0</td>\n",
       "      <td>9393.0</td>\n",
       "      <td>white</td>\n",
       "      <td>beige</td>\n",
       "      <td>kia motors america, inc</td>\n",
       "      <td>20800</td>\n",
       "      <td>21500</td>\n",
       "      <td>Tue Dec 16 2014 12:30:00 GMT-0800 (PST)</td>\n",
       "      <td>0</td>\n",
       "      <td>0</td>\n",
       "      <td>0</td>\n",
       "      <td>0</td>\n",
       "      <td>0</td>\n",
       "      <td>1</td>\n",
       "      <td>0</td>\n",
       "      <td>0</td>\n",
       "    </tr>\n",
       "    <tr>\n",
       "      <th>2</th>\n",
       "      <td>2014</td>\n",
       "      <td>5</td>\n",
       "      <td>9</td>\n",
       "      <td>283</td>\n",
       "      <td>SEDAN</td>\n",
       "      <td>automatic</td>\n",
       "      <td>wba3c1c51ek116351</td>\n",
       "      <td>3</td>\n",
       "      <td>4.5</td>\n",
       "      <td>1331.0</td>\n",
       "      <td>gray</td>\n",
       "      <td>black</td>\n",
       "      <td>financial services remarketing (lease)</td>\n",
       "      <td>31900</td>\n",
       "      <td>30000</td>\n",
       "      <td>Thu Jan 15 2015 04:30:00 GMT-0800 (PST)</td>\n",
       "      <td>0</td>\n",
       "      <td>0</td>\n",
       "      <td>0</td>\n",
       "      <td>0</td>\n",
       "      <td>1</td>\n",
       "      <td>0</td>\n",
       "      <td>0</td>\n",
       "      <td>0</td>\n",
       "    </tr>\n",
       "    <tr>\n",
       "      <th>3</th>\n",
       "      <td>2015</td>\n",
       "      <td>57</td>\n",
       "      <td>657</td>\n",
       "      <td>1626</td>\n",
       "      <td>SEDAN</td>\n",
       "      <td>automatic</td>\n",
       "      <td>yv1612tb4f1310987</td>\n",
       "      <td>3</td>\n",
       "      <td>4.1</td>\n",
       "      <td>14282.0</td>\n",
       "      <td>white</td>\n",
       "      <td>black</td>\n",
       "      <td>volvo na rep/world omni</td>\n",
       "      <td>27500</td>\n",
       "      <td>27750</td>\n",
       "      <td>Thu Jan 29 2015 04:30:00 GMT-0800 (PST)</td>\n",
       "      <td>0</td>\n",
       "      <td>0</td>\n",
       "      <td>0</td>\n",
       "      <td>0</td>\n",
       "      <td>1</td>\n",
       "      <td>0</td>\n",
       "      <td>0</td>\n",
       "      <td>0</td>\n",
       "    </tr>\n",
       "    <tr>\n",
       "      <th>4</th>\n",
       "      <td>2014</td>\n",
       "      <td>5</td>\n",
       "      <td>41</td>\n",
       "      <td>499</td>\n",
       "      <td>SEDAN</td>\n",
       "      <td>automatic</td>\n",
       "      <td>wba6b2c57ed129731</td>\n",
       "      <td>3</td>\n",
       "      <td>4.3</td>\n",
       "      <td>2641.0</td>\n",
       "      <td>gray</td>\n",
       "      <td>black</td>\n",
       "      <td>financial services remarketing (lease)</td>\n",
       "      <td>66000</td>\n",
       "      <td>67000</td>\n",
       "      <td>Thu Dec 18 2014 12:30:00 GMT-0800 (PST)</td>\n",
       "      <td>0</td>\n",
       "      <td>0</td>\n",
       "      <td>0</td>\n",
       "      <td>0</td>\n",
       "      <td>1</td>\n",
       "      <td>0</td>\n",
       "      <td>0</td>\n",
       "      <td>0</td>\n",
       "    </tr>\n",
       "  </tbody>\n",
       "</table>\n",
       "</div>"
      ],
      "text/plain": [
       "   year  make  model  trim   body transmission                vin  state  \\\n",
       "0  2015    27    715  1194    SUV    automatic  5xyktca69fg566472      3   \n",
       "1  2015    27    715  1194    SUV    automatic  5xyktca69fg561319      3   \n",
       "2  2014     5      9   283  SEDAN    automatic  wba3c1c51ek116351      3   \n",
       "3  2015    57    657  1626  SEDAN    automatic  yv1612tb4f1310987      3   \n",
       "4  2014     5     41   499  SEDAN    automatic  wba6b2c57ed129731      3   \n",
       "\n",
       "   condition  odometer  color interior  \\\n",
       "0        5.0   16639.0  white    black   \n",
       "1        5.0    9393.0  white    beige   \n",
       "2        4.5    1331.0   gray    black   \n",
       "3        4.1   14282.0  white    black   \n",
       "4        4.3    2641.0   gray    black   \n",
       "\n",
       "                                   seller    mmr  sellingprice  \\\n",
       "0                 kia motors america, inc  20500         21500   \n",
       "1                 kia motors america, inc  20800         21500   \n",
       "2  financial services remarketing (lease)  31900         30000   \n",
       "3                 volvo na rep/world omni  27500         27750   \n",
       "4  financial services remarketing (lease)  66000         67000   \n",
       "\n",
       "                                  saledate  body_CONVERTIBLE  body_COUPE  \\\n",
       "0  Tue Dec 16 2014 12:30:00 GMT-0800 (PST)                 0           0   \n",
       "1  Tue Dec 16 2014 12:30:00 GMT-0800 (PST)                 0           0   \n",
       "2  Thu Jan 15 2015 04:30:00 GMT-0800 (PST)                 0           0   \n",
       "3  Thu Jan 29 2015 04:30:00 GMT-0800 (PST)                 0           0   \n",
       "4  Thu Dec 18 2014 12:30:00 GMT-0800 (PST)                 0           0   \n",
       "\n",
       "   body_HATCHBACK  body_OTHER  body_SEDAN  body_SUV  body_VAN  \\\n",
       "0               0           0           0         1         0   \n",
       "1               0           0           0         1         0   \n",
       "2               0           0           1         0         0   \n",
       "3               0           0           1         0         0   \n",
       "4               0           0           1         0         0   \n",
       "\n",
       "   transmission_manual  \n",
       "0                    0  \n",
       "1                    0  \n",
       "2                    0  \n",
       "3                    0  \n",
       "4                    0  "
      ]
     },
     "execution_count": 33,
     "metadata": {},
     "output_type": "execute_result"
    }
   ],
   "source": [
    "# Check top 5 rows\n",
    "df.head()"
   ]
  },
  {
   "cell_type": "markdown",
   "id": "b8299f09",
   "metadata": {},
   "source": [
    "# Feature Selection"
   ]
  },
  {
   "cell_type": "code",
   "execution_count": 34,
   "id": "cd7d8cac",
   "metadata": {},
   "outputs": [],
   "source": [
    "# Remove unwanted columns\n",
    "df.drop(columns=['vin', 'color', 'seller', 'interior', 'body', 'transmission'], inplace=True)"
   ]
  },
  {
   "cell_type": "code",
   "execution_count": 35,
   "id": "e1930ce6",
   "metadata": {},
   "outputs": [],
   "source": [
    "# Add age column difference between year and sell date\n",
    "df['saledate'] = pd.to_datetime(df['saledate'], utc=True)\n",
    "df['age'] = df['saledate'].dt.year - df['year']\n",
    "df['age'] = df['age'].apply(lambda x: 0 if x < 0 else x)"
   ]
  },
  {
   "cell_type": "code",
   "execution_count": 36,
   "id": "7550c494",
   "metadata": {},
   "outputs": [],
   "source": [
    "# Drop year and saledate column\n",
    "df.drop(columns=['year', 'saledate'], inplace=True)"
   ]
  },
  {
   "cell_type": "code",
   "execution_count": 37,
   "id": "b70e3b3e",
   "metadata": {},
   "outputs": [],
   "source": [
    "# Assigning independent variables and dependent variable\n",
    "X = df.drop(columns=['sellingprice', 'mmr'])\n",
    "y = df['sellingprice']"
   ]
  },
  {
   "cell_type": "code",
   "execution_count": 38,
   "id": "c86d9bb4",
   "metadata": {},
   "outputs": [
    {
     "data": {
      "text/html": [
       "<div>\n",
       "<style scoped>\n",
       "    .dataframe tbody tr th:only-of-type {\n",
       "        vertical-align: middle;\n",
       "    }\n",
       "\n",
       "    .dataframe tbody tr th {\n",
       "        vertical-align: top;\n",
       "    }\n",
       "\n",
       "    .dataframe thead th {\n",
       "        text-align: right;\n",
       "    }\n",
       "</style>\n",
       "<table border=\"1\" class=\"dataframe\">\n",
       "  <thead>\n",
       "    <tr style=\"text-align: right;\">\n",
       "      <th></th>\n",
       "      <th>make</th>\n",
       "      <th>model</th>\n",
       "      <th>trim</th>\n",
       "      <th>state</th>\n",
       "      <th>condition</th>\n",
       "      <th>odometer</th>\n",
       "      <th>body_CONVERTIBLE</th>\n",
       "      <th>body_COUPE</th>\n",
       "      <th>body_HATCHBACK</th>\n",
       "      <th>body_OTHER</th>\n",
       "      <th>body_SEDAN</th>\n",
       "      <th>body_SUV</th>\n",
       "      <th>body_VAN</th>\n",
       "      <th>transmission_manual</th>\n",
       "      <th>age</th>\n",
       "    </tr>\n",
       "  </thead>\n",
       "  <tbody>\n",
       "    <tr>\n",
       "      <th>0</th>\n",
       "      <td>27</td>\n",
       "      <td>715</td>\n",
       "      <td>1194</td>\n",
       "      <td>3</td>\n",
       "      <td>5.0</td>\n",
       "      <td>16639.0</td>\n",
       "      <td>0</td>\n",
       "      <td>0</td>\n",
       "      <td>0</td>\n",
       "      <td>0</td>\n",
       "      <td>0</td>\n",
       "      <td>1</td>\n",
       "      <td>0</td>\n",
       "      <td>0</td>\n",
       "      <td>0</td>\n",
       "    </tr>\n",
       "    <tr>\n",
       "      <th>1</th>\n",
       "      <td>27</td>\n",
       "      <td>715</td>\n",
       "      <td>1194</td>\n",
       "      <td>3</td>\n",
       "      <td>5.0</td>\n",
       "      <td>9393.0</td>\n",
       "      <td>0</td>\n",
       "      <td>0</td>\n",
       "      <td>0</td>\n",
       "      <td>0</td>\n",
       "      <td>0</td>\n",
       "      <td>1</td>\n",
       "      <td>0</td>\n",
       "      <td>0</td>\n",
       "      <td>0</td>\n",
       "    </tr>\n",
       "  </tbody>\n",
       "</table>\n",
       "</div>"
      ],
      "text/plain": [
       "   make  model  trim  state  condition  odometer  body_CONVERTIBLE  \\\n",
       "0    27    715  1194      3        5.0   16639.0                 0   \n",
       "1    27    715  1194      3        5.0    9393.0                 0   \n",
       "\n",
       "   body_COUPE  body_HATCHBACK  body_OTHER  body_SEDAN  body_SUV  body_VAN  \\\n",
       "0           0               0           0           0         1         0   \n",
       "1           0               0           0           0         1         0   \n",
       "\n",
       "   transmission_manual  age  \n",
       "0                    0    0  \n",
       "1                    0    0  "
      ]
     },
     "execution_count": 38,
     "metadata": {},
     "output_type": "execute_result"
    }
   ],
   "source": [
    "# Checking first two rows of X\n",
    "X.head(2)"
   ]
  },
  {
   "cell_type": "markdown",
   "id": "8e692561",
   "metadata": {},
   "source": [
    "Since, there are not very large number of independent variables, no further process will be performed (like correlation or ExtraTreesRegressor - that helps in determining important features)"
   ]
  },
  {
   "cell_type": "markdown",
   "id": "9099540a",
   "metadata": {},
   "source": [
    "# Model Selection"
   ]
  },
  {
   "cell_type": "markdown",
   "id": "baa5dbc9",
   "metadata": {},
   "source": [
    "### Train Test Split"
   ]
  },
  {
   "cell_type": "code",
   "execution_count": 39,
   "id": "d7af419f",
   "metadata": {},
   "outputs": [],
   "source": [
    "from sklearn.model_selection import train_test_split\n",
    "X_train, X_test, y_train, y_test = train_test_split(X, y, test_size=0.25, random_state=100)"
   ]
  },
  {
   "cell_type": "markdown",
   "id": "a19964d9",
   "metadata": {},
   "source": [
    "We will try two different models.\n",
    "1. Linear Regression\n",
    "2. Random Forest Regression"
   ]
  },
  {
   "cell_type": "markdown",
   "id": "0aea9189",
   "metadata": {},
   "source": [
    "### Linear Regression"
   ]
  },
  {
   "cell_type": "code",
   "execution_count": 40,
   "id": "a034d686",
   "metadata": {},
   "outputs": [
    {
     "name": "stdout",
     "output_type": "stream",
     "text": [
      "neg_mean_absolute_error at each step:  [-4479.22815015 -4508.33464621 -4483.67836515]\n",
      "neg_mean_absolute_error average:  -4490.413720500424\n",
      "neg_mean_absolute_error standard deviation 12.801582898910652\n",
      "\n",
      "neg_mean_squared_error at each step:  [-43977704.39157601 -45292020.59326595 -45065362.37583945]\n",
      "neg_mean_squared_error average:  -44778362.45356047\n",
      "neg_mean_squared_error standard deviation 573662.7848293629\n",
      "\n",
      "neg_root_mean_squared_error at each step:  [-6631.56877304 -6729.93466486 -6713.07398856]\n",
      "neg_root_mean_squared_error average:  -6691.525808818939\n",
      "neg_root_mean_squared_error standard deviation 42.95117542646103\n",
      "\n",
      "r2 at each step:  [0.52045977 0.51516106 0.51584555]\n",
      "r2 average:  0.5171554607053207\n",
      "r2 standard deviation 0.0023531527711644503\n",
      "\n"
     ]
    }
   ],
   "source": [
    "# First we will try linear regression\n",
    "from sklearn.linear_model import LinearRegression\n",
    "from sklearn.model_selection import cross_val_score\n",
    "\n",
    "lregression = LinearRegression()\n",
    "\n",
    "\n",
    "# Metrics score using cross validation (3 fold)\n",
    "for s in ['neg_mean_absolute_error', 'neg_mean_squared_error', 'neg_root_mean_squared_error', 'r2']:\n",
    "    scores = cross_val_score(lregression, X_train, y_train,  cv=3, scoring=s)\n",
    "    print(s, 'at each step: ', scores)\n",
    "    print(s, 'average: ', np.mean(scores))\n",
    "    print(s, 'standard deviation', np.std(scores))\n",
    "    print()"
   ]
  },
  {
   "cell_type": "markdown",
   "id": "6d24ce38",
   "metadata": {},
   "source": [
    "Based on the calculated metrics using cross-validation we can assume that linear regression can do well in making prediction. "
   ]
  },
  {
   "cell_type": "code",
   "execution_count": 41,
   "id": "d5838110",
   "metadata": {},
   "outputs": [
    {
     "data": {
      "text/plain": [
       "LinearRegression()"
      ]
     },
     "execution_count": 41,
     "metadata": {},
     "output_type": "execute_result"
    }
   ],
   "source": [
    "# Fit the model to training data\n",
    "lregression.fit(X_train, y_train)"
   ]
  },
  {
   "cell_type": "code",
   "execution_count": 42,
   "id": "6e612a1e",
   "metadata": {},
   "outputs": [],
   "source": [
    "# Make prediction on test data\n",
    "predict = lregression.predict(X_test)"
   ]
  },
  {
   "cell_type": "code",
   "execution_count": 43,
   "id": "5b9d2448",
   "metadata": {
    "scrolled": true
   },
   "outputs": [
    {
     "name": "stderr",
     "output_type": "stream",
     "text": [
      "/Users/pkhatri/opt/anaconda3/envs/carpredict/lib/python3.7/site-packages/seaborn/distributions.py:2619: FutureWarning: `distplot` is a deprecated function and will be removed in a future version. Please adapt your code to use either `displot` (a figure-level function with similar flexibility) or `histplot` (an axes-level function for histograms).\n",
      "  warnings.warn(msg, FutureWarning)\n"
     ]
    },
    {
     "data": {
      "text/plain": [
       "<AxesSubplot:xlabel='sellingprice', ylabel='Density'>"
      ]
     },
     "execution_count": 43,
     "metadata": {},
     "output_type": "execute_result"
    },
    {
     "data": {
      "image/png": "[encoded data removed]",
      "text/plain": [
       "<Figure size 432x288 with 1 Axes>"
      ]
     },
     "metadata": {
      "needs_background": "light"
     },
     "output_type": "display_data"
    }
   ],
   "source": [
    "# Distribution plot y_test - prediction data\n",
    "sns.distplot(y_test-predict)"
   ]
  },
  {
   "cell_type": "markdown",
   "id": "ee22617e",
   "metadata": {},
   "source": [
    "The plot indicates the data is almost normally distributed with mean value of 0. The model seems to be performing well. Let's also calculate Mean absolute error (MAE), mean square error (MSE), root mean squared error (RMSE) and r2 score (R2_score)."
   ]
  },
  {
   "cell_type": "code",
   "execution_count": 44,
   "id": "b9b7822c",
   "metadata": {},
   "outputs": [],
   "source": [
    "from sklearn import metrics"
   ]
  },
  {
   "cell_type": "code",
   "execution_count": 45,
   "id": "e8c4fadd",
   "metadata": {},
   "outputs": [
    {
     "name": "stdout",
     "output_type": "stream",
     "text": [
      "MAE: 4484.734522087136\n",
      "MSE: 44578367.517516404\n",
      "RMSE: 6676.703342033133\n",
      "R2-Score: 0.5186579487781797\n"
     ]
    }
   ],
   "source": [
    "print('MAE:', metrics.mean_absolute_error(y_test, predict))\n",
    "print('MSE:', metrics.mean_squared_error(y_test, predict))\n",
    "print('RMSE:', np.sqrt(metrics.mean_squared_error(y_test, predict)))\n",
    "print('R2-Score:', metrics.r2_score(y_test, predict))"
   ]
  },
  {
   "cell_type": "markdown",
   "id": "21feb621",
   "metadata": {},
   "source": [
    "### Decision Tree Regressor"
   ]
  },
  {
   "cell_type": "code",
   "execution_count": 46,
   "id": "c171a7a1",
   "metadata": {},
   "outputs": [],
   "source": [
    "from sklearn.tree import DecisionTreeRegressor\n",
    "from sklearn.model_selection import RandomizedSearchCV"
   ]
  },
  {
   "cell_type": "code",
   "execution_count": 47,
   "id": "cb1ae34b",
   "metadata": {},
   "outputs": [],
   "source": [
    "dt_reg = DecisionTreeRegressor()"
   ]
  },
  {
   "cell_type": "code",
   "execution_count": 48,
   "id": "66530790",
   "metadata": {},
   "outputs": [],
   "source": [
    "param_grid = {'splitter':['best','random'],\n",
    "            'max_depth' : [i for i in range(5, 55, 5)],\n",
    "           'min_samples_leaf':[i for i in range(1, 11)],\n",
    "           'min_weight_fraction_leaf':[i for i in np.linspace(0.1, 0.5, 10)],\n",
    "           'max_features':['auto','log2','sqrt'],\n",
    "           'max_leaf_nodes':[i for i in range(5, 55, 5)]}"
   ]
  },
  {
   "cell_type": "code",
   "execution_count": 49,
   "id": "28f4a789",
   "metadata": {},
   "outputs": [],
   "source": [
    "dt_reg_search = RandomizedSearchCV(estimator=dt_reg, param_distributions=param_grid, cv=3, \n",
    "                                scoring='neg_mean_squared_error', verbose=2, random_state=75)"
   ]
  },
  {
   "cell_type": "code",
   "execution_count": 50,
   "id": "237f9486",
   "metadata": {},
   "outputs": [
    {
     "name": "stdout",
     "output_type": "stream",
     "text": [
      "Fitting 3 folds for each of 10 candidates, totalling 30 fits\n",
      "[CV] END max_depth=5, max_features=sqrt, max_leaf_nodes=10, min_samples_leaf=8, min_weight_fraction_leaf=0.18888888888888888, splitter=best; total time=   0.1s\n",
      "[CV] END max_depth=5, max_features=sqrt, max_leaf_nodes=10, min_samples_leaf=8, min_weight_fraction_leaf=0.18888888888888888, splitter=best; total time=   0.2s\n",
      "[CV] END max_depth=5, max_features=sqrt, max_leaf_nodes=10, min_samples_leaf=8, min_weight_fraction_leaf=0.18888888888888888, splitter=best; total time=   0.1s\n",
      "[CV] END max_depth=25, max_features=auto, max_leaf_nodes=25, min_samples_leaf=8, min_weight_fraction_leaf=0.18888888888888888, splitter=best; total time=   0.3s\n",
      "[CV] END max_depth=25, max_features=auto, max_leaf_nodes=25, min_samples_leaf=8, min_weight_fraction_leaf=0.18888888888888888, splitter=best; total time=   0.3s\n",
      "[CV] END max_depth=25, max_features=auto, max_leaf_nodes=25, min_samples_leaf=8, min_weight_fraction_leaf=0.18888888888888888, splitter=best; total time=   0.3s\n",
      "[CV] END max_depth=5, max_features=log2, max_leaf_nodes=5, min_samples_leaf=4, min_weight_fraction_leaf=0.23333333333333334, splitter=random; total time=   0.1s\n",
      "[CV] END max_depth=5, max_features=log2, max_leaf_nodes=5, min_samples_leaf=4, min_weight_fraction_leaf=0.23333333333333334, splitter=random; total time=   0.1s\n",
      "[CV] END max_depth=5, max_features=log2, max_leaf_nodes=5, min_samples_leaf=4, min_weight_fraction_leaf=0.23333333333333334, splitter=random; total time=   0.1s\n",
      "[CV] END max_depth=50, max_features=auto, max_leaf_nodes=20, min_samples_leaf=7, min_weight_fraction_leaf=0.4555555555555556, splitter=random; total time=   0.1s\n",
      "[CV] END max_depth=50, max_features=auto, max_leaf_nodes=20, min_samples_leaf=7, min_weight_fraction_leaf=0.4555555555555556, splitter=random; total time=   0.1s\n",
      "[CV] END max_depth=50, max_features=auto, max_leaf_nodes=20, min_samples_leaf=7, min_weight_fraction_leaf=0.4555555555555556, splitter=random; total time=   0.1s\n",
      "[CV] END max_depth=15, max_features=log2, max_leaf_nodes=15, min_samples_leaf=4, min_weight_fraction_leaf=0.3666666666666667, splitter=best; total time=   0.1s\n",
      "[CV] END max_depth=15, max_features=log2, max_leaf_nodes=15, min_samples_leaf=4, min_weight_fraction_leaf=0.3666666666666667, splitter=best; total time=   0.1s\n",
      "[CV] END max_depth=15, max_features=log2, max_leaf_nodes=15, min_samples_leaf=4, min_weight_fraction_leaf=0.3666666666666667, splitter=best; total time=   0.1s\n",
      "[CV] END max_depth=10, max_features=log2, max_leaf_nodes=5, min_samples_leaf=7, min_weight_fraction_leaf=0.2777777777777778, splitter=best; total time=   0.1s\n",
      "[CV] END max_depth=10, max_features=log2, max_leaf_nodes=5, min_samples_leaf=7, min_weight_fraction_leaf=0.2777777777777778, splitter=best; total time=   0.1s\n",
      "[CV] END max_depth=10, max_features=log2, max_leaf_nodes=5, min_samples_leaf=7, min_weight_fraction_leaf=0.2777777777777778, splitter=best; total time=   0.1s\n",
      "[CV] END max_depth=5, max_features=sqrt, max_leaf_nodes=30, min_samples_leaf=8, min_weight_fraction_leaf=0.23333333333333334, splitter=best; total time=   0.1s\n",
      "[CV] END max_depth=5, max_features=sqrt, max_leaf_nodes=30, min_samples_leaf=8, min_weight_fraction_leaf=0.23333333333333334, splitter=best; total time=   0.1s\n",
      "[CV] END max_depth=5, max_features=sqrt, max_leaf_nodes=30, min_samples_leaf=8, min_weight_fraction_leaf=0.23333333333333334, splitter=best; total time=   0.1s\n",
      "[CV] END max_depth=25, max_features=sqrt, max_leaf_nodes=20, min_samples_leaf=1, min_weight_fraction_leaf=0.4111111111111111, splitter=best; total time=   0.1s\n",
      "[CV] END max_depth=25, max_features=sqrt, max_leaf_nodes=20, min_samples_leaf=1, min_weight_fraction_leaf=0.4111111111111111, splitter=best; total time=   0.1s\n",
      "[CV] END max_depth=25, max_features=sqrt, max_leaf_nodes=20, min_samples_leaf=1, min_weight_fraction_leaf=0.4111111111111111, splitter=best; total time=   0.1s\n",
      "[CV] END max_depth=20, max_features=auto, max_leaf_nodes=40, min_samples_leaf=5, min_weight_fraction_leaf=0.32222222222222224, splitter=best; total time=   0.2s\n",
      "[CV] END max_depth=20, max_features=auto, max_leaf_nodes=40, min_samples_leaf=5, min_weight_fraction_leaf=0.32222222222222224, splitter=best; total time=   0.2s\n",
      "[CV] END max_depth=20, max_features=auto, max_leaf_nodes=40, min_samples_leaf=5, min_weight_fraction_leaf=0.32222222222222224, splitter=best; total time=   0.2s\n",
      "[CV] END max_depth=50, max_features=sqrt, max_leaf_nodes=5, min_samples_leaf=10, min_weight_fraction_leaf=0.3666666666666667, splitter=random; total time=   0.1s\n",
      "[CV] END max_depth=50, max_features=sqrt, max_leaf_nodes=5, min_samples_leaf=10, min_weight_fraction_leaf=0.3666666666666667, splitter=random; total time=   0.1s\n",
      "[CV] END max_depth=50, max_features=sqrt, max_leaf_nodes=5, min_samples_leaf=10, min_weight_fraction_leaf=0.3666666666666667, splitter=random; total time=   0.1s\n"
     ]
    },
    {
     "data": {
      "text/plain": [
       "RandomizedSearchCV(cv=3, estimator=DecisionTreeRegressor(),\n",
       "                   param_distributions={'max_depth': [5, 10, 15, 20, 25, 30, 35,\n",
       "                                                      40, 45, 50],\n",
       "                                        'max_features': ['auto', 'log2',\n",
       "                                                         'sqrt'],\n",
       "                                        'max_leaf_nodes': [5, 10, 15, 20, 25,\n",
       "                                                           30, 35, 40, 45, 50],\n",
       "                                        'min_samples_leaf': [1, 2, 3, 4, 5, 6,\n",
       "                                                             7, 8, 9, 10],\n",
       "                                        'min_weight_fraction_leaf': [0.1,\n",
       "                                                                     0.14444444444444446,\n",
       "                                                                     0.18888888888888888,\n",
       "                                                                     0.23333333333333334,\n",
       "                                                                     0.2777777777777778,\n",
       "                                                                     0.32222222222222224,\n",
       "                                                                     0.3666666666666667,\n",
       "                                                                     0.4111111111111111,\n",
       "                                                                     0.4555555555555556,\n",
       "                                                                     0.5],\n",
       "                                        'splitter': ['best', 'random']},\n",
       "                   random_state=75, scoring='neg_mean_squared_error',\n",
       "                   verbose=2)"
      ]
     },
     "execution_count": 50,
     "metadata": {},
     "output_type": "execute_result"
    }
   ],
   "source": [
    "dt_reg_search.fit(X_train, y_train)"
   ]
  },
  {
   "cell_type": "code",
   "execution_count": 51,
   "id": "6fc21750",
   "metadata": {},
   "outputs": [
    {
     "data": {
      "text/plain": [
       "{'splitter': 'best',\n",
       " 'min_weight_fraction_leaf': 0.18888888888888888,\n",
       " 'min_samples_leaf': 8,\n",
       " 'max_leaf_nodes': 25,\n",
       " 'max_features': 'auto',\n",
       " 'max_depth': 25}"
      ]
     },
     "execution_count": 51,
     "metadata": {},
     "output_type": "execute_result"
    }
   ],
   "source": [
    "# Finding best parameters\n",
    "dt_reg_search.best_params_"
   ]
  },
  {
   "cell_type": "code",
   "execution_count": 52,
   "id": "6916f0b6",
   "metadata": {},
   "outputs": [],
   "source": [
    "predict_dt = dt_reg_search.predict(X_test)"
   ]
  },
  {
   "cell_type": "code",
   "execution_count": 53,
   "id": "806896c3",
   "metadata": {},
   "outputs": [
    {
     "name": "stderr",
     "output_type": "stream",
     "text": [
      "/Users/pkhatri/opt/anaconda3/envs/carpredict/lib/python3.7/site-packages/seaborn/distributions.py:2619: FutureWarning: `distplot` is a deprecated function and will be removed in a future version. Please adapt your code to use either `displot` (a figure-level function with similar flexibility) or `histplot` (an axes-level function for histograms).\n",
      "  warnings.warn(msg, FutureWarning)\n"
     ]
    },
    {
     "data": {
      "text/plain": [
       "<AxesSubplot:xlabel='sellingprice', ylabel='Density'>"
      ]
     },
     "execution_count": 53,
     "metadata": {},
     "output_type": "execute_result"
    },
    {
     "data": {
      "image/png": "[encoded data removed]",
      "text/plain": [
       "<Figure size 432x288 with 1 Axes>"
      ]
     },
     "metadata": {
      "needs_background": "light"
     },
     "output_type": "display_data"
    }
   ],
   "source": [
    "# Distribution plot y_test - prediction data\n",
    "sns.distplot(y_test - predict_dt)"
   ]
  },
  {
   "cell_type": "code",
   "execution_count": 54,
   "id": "5b980621",
   "metadata": {},
   "outputs": [
    {
     "name": "stdout",
     "output_type": "stream",
     "text": [
      "MAE: 5144.228186787004\n",
      "MSE: 58168575.84981073\n",
      "RMSE: 7626.832622380717\n",
      "R2-Score: 0.37191550127540773\n"
     ]
    }
   ],
   "source": [
    "print('MAE:', metrics.mean_absolute_error(y_test, predict_dt))\n",
    "print('MSE:', metrics.mean_squared_error(y_test, predict_dt))\n",
    "print('RMSE:', np.sqrt(metrics.mean_squared_error(y_test, predict_dt)))\n",
    "print('R2-Score:', metrics.r2_score(y_test, predict_dt))"
   ]
  },
  {
   "cell_type": "markdown",
   "id": "58b3084d",
   "metadata": {},
   "source": [
    "Clearly, Linear Regression is performing better than Decision Tree Regressor. "
   ]
  },
  {
   "cell_type": "markdown",
   "id": "51e50d84",
   "metadata": {},
   "source": [
    "### Random Forest Regressor"
   ]
  },
  {
   "cell_type": "code",
   "execution_count": 55,
   "id": "4ecbf52e",
   "metadata": {},
   "outputs": [],
   "source": [
    "from sklearn.ensemble import RandomForestRegressor"
   ]
  },
  {
   "cell_type": "code",
   "execution_count": 56,
   "id": "a9defcc6",
   "metadata": {},
   "outputs": [],
   "source": [
    "rf_reg = RandomForestRegressor()\n",
    "param_grid = {'n_estimators': [i for i in range(5, 100, 5)], \n",
    "             'max_depth': [i for i in range(5, 41, 5)], \n",
    "             'min_samples_split': [int(i) for i in np.linspace(2, 10, 5)], \n",
    "             'min_samples_leaf': [int(i) for i in range(1, 10, 2)], \n",
    "             'max_features': ['auto', 'sqrt', 'log2'], \n",
    "             'bootstrap': [True, False]}"
   ]
  },
  {
   "cell_type": "code",
   "execution_count": 57,
   "id": "9cf993b4",
   "metadata": {},
   "outputs": [],
   "source": [
    "rf_rsearch = RandomizedSearchCV(estimator=rf_reg, param_distributions=param_grid, n_iter=5, cv=3, \n",
    "                                scoring='neg_mean_squared_error', verbose=2, random_state=75)"
   ]
  },
  {
   "cell_type": "code",
   "execution_count": 58,
   "id": "ca389587",
   "metadata": {},
   "outputs": [
    {
     "name": "stdout",
     "output_type": "stream",
     "text": [
      "Fitting 3 folds for each of 5 candidates, totalling 15 fits\n",
      "[CV] END bootstrap=True, max_depth=20, max_features=auto, min_samples_leaf=1, min_samples_split=8, n_estimators=65; total time= 1.1min\n",
      "[CV] END bootstrap=True, max_depth=20, max_features=auto, min_samples_leaf=1, min_samples_split=8, n_estimators=65; total time= 1.1min\n",
      "[CV] END bootstrap=True, max_depth=20, max_features=auto, min_samples_leaf=1, min_samples_split=8, n_estimators=65; total time= 1.1min\n",
      "[CV] END bootstrap=True, max_depth=10, max_features=sqrt, min_samples_leaf=3, min_samples_split=8, n_estimators=80; total time=  12.5s\n",
      "[CV] END bootstrap=True, max_depth=10, max_features=sqrt, min_samples_leaf=3, min_samples_split=8, n_estimators=80; total time=  12.6s\n",
      "[CV] END bootstrap=True, max_depth=10, max_features=sqrt, min_samples_leaf=3, min_samples_split=8, n_estimators=80; total time=  14.4s\n",
      "[CV] END bootstrap=False, max_depth=40, max_features=sqrt, min_samples_leaf=3, min_samples_split=4, n_estimators=30; total time=  13.1s\n",
      "[CV] END bootstrap=False, max_depth=40, max_features=sqrt, min_samples_leaf=3, min_samples_split=4, n_estimators=30; total time=  13.3s\n",
      "[CV] END bootstrap=False, max_depth=40, max_features=sqrt, min_samples_leaf=3, min_samples_split=4, n_estimators=30; total time=  13.1s\n",
      "[CV] END bootstrap=False, max_depth=15, max_features=auto, min_samples_leaf=5, min_samples_split=4, n_estimators=70; total time= 1.4min\n",
      "[CV] END bootstrap=False, max_depth=15, max_features=auto, min_samples_leaf=5, min_samples_split=4, n_estimators=70; total time= 1.4min\n",
      "[CV] END bootstrap=False, max_depth=15, max_features=auto, min_samples_leaf=5, min_samples_split=4, n_estimators=70; total time= 1.4min\n",
      "[CV] END bootstrap=True, max_depth=30, max_features=log2, min_samples_leaf=1, min_samples_split=6, n_estimators=80; total time=  27.9s\n",
      "[CV] END bootstrap=True, max_depth=30, max_features=log2, min_samples_leaf=1, min_samples_split=6, n_estimators=80; total time=  27.5s\n",
      "[CV] END bootstrap=True, max_depth=30, max_features=log2, min_samples_leaf=1, min_samples_split=6, n_estimators=80; total time=  28.6s\n"
     ]
    },
    {
     "data": {
      "text/plain": [
       "RandomizedSearchCV(cv=3, estimator=RandomForestRegressor(), n_iter=5,\n",
       "                   param_distributions={'bootstrap': [True, False],\n",
       "                                        'max_depth': [5, 10, 15, 20, 25, 30, 35,\n",
       "                                                      40],\n",
       "                                        'max_features': ['auto', 'sqrt',\n",
       "                                                         'log2'],\n",
       "                                        'min_samples_leaf': [1, 3, 5, 7, 9],\n",
       "                                        'min_samples_split': [2, 4, 6, 8, 10],\n",
       "                                        'n_estimators': [5, 10, 15, 20, 25, 30,\n",
       "                                                         35, 40, 45, 50, 55, 60,\n",
       "                                                         65, 70, 75, 80, 85, 90,\n",
       "                                                         95]},\n",
       "                   random_state=75, scoring='neg_mean_squared_error',\n",
       "                   verbose=2)"
      ]
     },
     "execution_count": 58,
     "metadata": {},
     "output_type": "execute_result"
    }
   ],
   "source": [
    "rf_rsearch.fit(X_train, y_train)"
   ]
  },
  {
   "cell_type": "code",
   "execution_count": 59,
   "id": "45f51107",
   "metadata": {
    "scrolled": true
   },
   "outputs": [
    {
     "data": {
      "text/plain": [
       "{'n_estimators': 65,\n",
       " 'min_samples_split': 8,\n",
       " 'min_samples_leaf': 1,\n",
       " 'max_features': 'auto',\n",
       " 'max_depth': 20,\n",
       " 'bootstrap': True}"
      ]
     },
     "execution_count": 59,
     "metadata": {},
     "output_type": "execute_result"
    }
   ],
   "source": [
    "# Finding best parameters\n",
    "rf_rsearch.best_params_"
   ]
  },
  {
   "cell_type": "code",
   "execution_count": 60,
   "id": "c2547125",
   "metadata": {},
   "outputs": [],
   "source": [
    "predict_rf = rf_rsearch.predict(X_test)"
   ]
  },
  {
   "cell_type": "code",
   "execution_count": 61,
   "id": "009f064d",
   "metadata": {},
   "outputs": [
    {
     "name": "stderr",
     "output_type": "stream",
     "text": [
      "/Users/pkhatri/opt/anaconda3/envs/carpredict/lib/python3.7/site-packages/seaborn/distributions.py:2619: FutureWarning: `distplot` is a deprecated function and will be removed in a future version. Please adapt your code to use either `displot` (a figure-level function with similar flexibility) or `histplot` (an axes-level function for histograms).\n",
      "  warnings.warn(msg, FutureWarning)\n"
     ]
    },
    {
     "data": {
      "text/plain": [
       "<AxesSubplot:xlabel='sellingprice', ylabel='Density'>"
      ]
     },
     "execution_count": 61,
     "metadata": {},
     "output_type": "execute_result"
    },
    {
     "data": {
      "image/png": "[encoded data removed]",
      "text/plain": [
       "<Figure size 432x288 with 1 Axes>"
      ]
     },
     "metadata": {
      "needs_background": "light"
     },
     "output_type": "display_data"
    }
   ],
   "source": [
    "# Distribution plot y_test - prediction data\n",
    "sns.distplot(y_test-predict_rf)"
   ]
  },
  {
   "cell_type": "markdown",
   "id": "6dddecb7",
   "metadata": {},
   "source": [
    "The plot indicates the data is almost normally distributed with mean value of 0. The model seems to be performing well and slightly better than Linear Regression. But let's also calculate Mean absolute error (MAE), mean square error (MSE), root mean squared error (RMSE) and r2 score (R2_score) as well to select a better model."
   ]
  },
  {
   "cell_type": "code",
   "execution_count": 62,
   "id": "0f97dbdc",
   "metadata": {},
   "outputs": [
    {
     "name": "stdout",
     "output_type": "stream",
     "text": [
      "MAE: 1181.651435332388\n",
      "MSE: 4352664.1577448165\n",
      "RMSE: 2086.3039466350097\n",
      "R2-Score: 0.9530014127783988\n"
     ]
    }
   ],
   "source": [
    "print('MAE:', metrics.mean_absolute_error(y_test, predict_rf))\n",
    "print('MSE:', metrics.mean_squared_error(y_test, predict_rf))\n",
    "print('RMSE:', np.sqrt(metrics.mean_squared_error(y_test, predict_rf)))\n",
    "print('R2-Score:', metrics.r2_score(y_test, predict_rf))"
   ]
  },
  {
   "cell_type": "code",
   "execution_count": 63,
   "id": "b0dbbd52",
   "metadata": {},
   "outputs": [
    {
     "data": {
      "text/html": [
       "<div>\n",
       "<style scoped>\n",
       "    .dataframe tbody tr th:only-of-type {\n",
       "        vertical-align: middle;\n",
       "    }\n",
       "\n",
       "    .dataframe tbody tr th {\n",
       "        vertical-align: top;\n",
       "    }\n",
       "\n",
       "    .dataframe thead th {\n",
       "        text-align: right;\n",
       "    }\n",
       "</style>\n",
       "<table border=\"1\" class=\"dataframe\">\n",
       "  <thead>\n",
       "    <tr style=\"text-align: right;\">\n",
       "      <th></th>\n",
       "      <th>Linear Regression</th>\n",
       "      <th>Random Forest Regression</th>\n",
       "    </tr>\n",
       "  </thead>\n",
       "  <tbody>\n",
       "    <tr>\n",
       "      <th>MAE</th>\n",
       "      <td>4484.73</td>\n",
       "      <td>1181.65</td>\n",
       "    </tr>\n",
       "    <tr>\n",
       "      <th>MSE</th>\n",
       "      <td>44578367.52</td>\n",
       "      <td>4352664.16</td>\n",
       "    </tr>\n",
       "    <tr>\n",
       "      <th>RMSE</th>\n",
       "      <td>6676.70</td>\n",
       "      <td>2086.30</td>\n",
       "    </tr>\n",
       "    <tr>\n",
       "      <th>R2-Score</th>\n",
       "      <td>0.52</td>\n",
       "      <td>0.95</td>\n",
       "    </tr>\n",
       "  </tbody>\n",
       "</table>\n",
       "</div>"
      ],
      "text/plain": [
       "          Linear Regression  Random Forest Regression\n",
       "MAE                 4484.73                   1181.65\n",
       "MSE             44578367.52                4352664.16\n",
       "RMSE                6676.70                   2086.30\n",
       "R2-Score               0.52                      0.95"
      ]
     },
     "execution_count": 63,
     "metadata": {},
     "output_type": "execute_result"
    }
   ],
   "source": [
    "# Let's compare the metrics in table\n",
    "metrics_dict = {'Linear Regression': [metrics.mean_absolute_error(y_test, predict), \n",
    "                                     metrics.mean_squared_error(y_test, predict), \n",
    "                                     np.sqrt(metrics.mean_squared_error(y_test, predict)), \n",
    "                                     metrics.r2_score(y_test, predict)], \n",
    "               'Random Forest Regression': [metrics.mean_absolute_error(y_test, predict_rf), \n",
    "                                     metrics.mean_squared_error(y_test, predict_rf), \n",
    "                                     np.sqrt(metrics.mean_squared_error(y_test, predict_rf)), \n",
    "                                     metrics.r2_score(y_test, predict_rf)]}\n",
    "\n",
    "pd.DataFrame(metrics_dict, index=['MAE', 'MSE', 'RMSE', 'R2-Score']).round(2)"
   ]
  },
  {
   "cell_type": "markdown",
   "id": "158999a0",
   "metadata": {},
   "source": [
    "The Random Forest Regression model performs way better based on the results. We will use Random Forest Regression in making predictions going forward. "
   ]
  },
  {
   "cell_type": "markdown",
   "id": "7c051c0d",
   "metadata": {},
   "source": [
    "# Save the model and label encoder"
   ]
  },
  {
   "cell_type": "code",
   "execution_count": 64,
   "id": "1729db70",
   "metadata": {},
   "outputs": [
    {
     "data": {
      "text/plain": [
       "['make_model_trim.joblib']"
      ]
     },
     "execution_count": 64,
     "metadata": {},
     "output_type": "execute_result"
    }
   ],
   "source": [
    "from joblib import dump\n",
    "\n",
    "# Save model\n",
    "dump(rf_rsearch, 'carpricepredict.joblib', compress=3)\n",
    "\n",
    "# Save label encoder\n",
    "dump(encoder_dict, 'enconder_dict.joblib')\n",
    "\n",
    "# Save make-model-trim info\n",
    "dump(mmt, 'make_model_trim.joblib')"
   ]
  },
  {
   "cell_type": "code",
   "execution_count": null,
   "id": "578ae8dc",
   "metadata": {},
   "outputs": [],
   "source": []
  }
 ],
 "metadata": {
  "kernelspec": {
   "display_name": "Python 3 (ipykernel)",
   "language": "python",
   "name": "python3"
  },
  "language_info": {
   "codemirror_mode": {
    "name": "ipython",
    "version": 3
   },
   "file_extension": ".py",
   "mimetype": "text/x-python",
   "name": "python",
   "nbconvert_exporter": "python",
   "pygments_lexer": "ipython3",
   "version": "3.7.11"
  }
 },
 "nbformat": 4,
 "nbformat_minor": 5
}
